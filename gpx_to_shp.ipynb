{
 "cells": [
  {
   "cell_type": "code",
   "execution_count": 1,
   "metadata": {},
   "outputs": [],
   "source": [
    "import os\n",
    "import pandas as pd\n",
    "import geopandas as gpd\n",
    "from shapely.geometry import Point\n",
    "import gpxpy"
   ]
  },
  {
   "cell_type": "code",
   "execution_count": 17,
   "metadata": {},
   "outputs": [],
   "source": [
    "# Función para extraer datos de un archivo GPX\n",
    "def extraer_rutas_gpx(archivo_gpx):\n",
    "    with open(archivo_gpx, 'r', encoding='utf-8') as gpx_file:\n",
    "        gpx = gpxpy.parse(gpx_file)\n",
    "    \n",
    "    rutas = []\n",
    "    for track in gpx.tracks:\n",
    "        ruta_id = track.name  # Nombre de la ruta\n",
    "        for segment in track.segments:\n",
    "            for point in segment.points:\n",
    "                rutas.append({\n",
    "                    'ruta_id': ruta_id,\n",
    "                    'timestamp': point.time,\n",
    "                    'latitude': point.latitude,\n",
    "                    'longitude': point.longitude,\n",
    "                    'elevation': point.elevation,\n",
    "                    'archivo': os.path.basename(archivo_gpx)  # Nombre del archivo GPX\n",
    "                })\n",
    "    return pd.DataFrame(rutas)"
   ]
  },
  {
   "cell_type": "code",
   "execution_count": 24,
   "metadata": {},
   "outputs": [],
   "source": [
    "# Función para procesar un archivo GPX, guardar los Shapefiles y agregar un contador de rutas\n",
    "def procesar_gpx(archivo_gpx, output_folder, contador_rutas):\n",
    "    # Extraer datos del GPX\n",
    "    df_gpx = extraer_rutas_gpx(archivo_gpx)\n",
    "\n",
    "    # Calcular tiempos de inicio, fin y duración\n",
    "    df_gpx['timestamp'] = pd.to_datetime(df_gpx['timestamp'])\n",
    "    tiempos_rutas = df_gpx.groupby('ruta_id')['timestamp'].agg(['min', 'max'])\n",
    "    tiempos_rutas['duracion'] = tiempos_rutas['max'] - tiempos_rutas['min']\n",
    "    tiempos_rutas['duracion_min'] = tiempos_rutas['duracion'].dt.total_seconds() / 60\n",
    "\n",
    "    # Combinar datos\n",
    "    df_gpx_completo = df_gpx.merge(tiempos_rutas, on='ruta_id', how='left')\n",
    "\n",
    "    # Redondear al entero más cercano\n",
    "    df_gpx_completo['duracion_min'] = df_gpx_completo['duracion_min'].round(0).astype(int)\n",
    "\n",
    "    # Asignar un identificador único a cada ruta (ruta_ide)\n",
    "    df_gpx_completo['ruta_ide'] = df_gpx_completo.groupby('ruta_id').ngroup() + contador_rutas\n",
    "\n",
    "    # Convertir campos datetime a cadenas de texto\n",
    "    df_gpx_completo['timestamp'] = df_gpx_completo['timestamp'].astype(str)\n",
    "    df_gpx_completo['min'] = df_gpx_completo['min'].astype(str)\n",
    "    df_gpx_completo['max'] = df_gpx_completo['max'].astype(str)\n",
    "    df_gpx_completo['duracion'] = df_gpx_completo['duracion'].astype(str)\n",
    "    df_gpx_completo['duracion_min'] = df_gpx_completo['duracion_min'].astype(str)\n",
    "\n",
    "    # Renombrar columnas para que tengan un máximo de 10 caracteres\n",
    "    df_gpx_completo = df_gpx_completo.rename(columns={\n",
    "        'ruta_id': 'ruta_id',\n",
    "        'timestamp': 'timestamp',\n",
    "        'latitude': 'latitude',\n",
    "        'longitude': 'longitude',\n",
    "        'elevation': 'elevation',\n",
    "        'archivo': 'archivo',\n",
    "        'min': 'inicio',\n",
    "        'max': 'fin',\n",
    "        'duracion': 'duracion',\n",
    "        'duracion_min': 'duracion_min',\n",
    "        'ruta_ide': 'ruta_ide',\n",
    "    })\n",
    "\n",
    "    # Crear geometría y GeoDataFrame\n",
    "    geometry = [Point(xy) for xy in zip(df_gpx_completo['longitude'], df_gpx_completo['latitude'])]\n",
    "    gdf = gpd.GeoDataFrame(df_gpx_completo, geometry=geometry, crs=\"EPSG:4326\")  # WGS84\n",
    "    \n",
    "    # Guardar cada ruta como un Shapefile\n",
    "    for ruta_id, grupo in gdf.groupby('ruta_id'):\n",
    "        nombre_archivo = f\"{grupo['ruta_ide'].iloc[0]}_{ruta_id.replace('/', '_').replace(':', '_')}.shp\"\n",
    "        ruta_archivo = os.path.join(output_folder, nombre_archivo)\n",
    "        grupo.to_file(ruta_archivo, driver='ESRI Shapefile')\n",
    "        print(f\"Guardado: {ruta_archivo}\")\n",
    "    \n",
    "    # Actualizar el contador de rutas\n",
    "    \n",
    "    return df_gpx_completo['ruta_ide'].max()"
   ]
  },
  {
   "cell_type": "code",
   "execution_count": 25,
   "metadata": {},
   "outputs": [],
   "source": [
    "# Carpeta raíz donde se encuentran las subcarpetas con los archivos GPX\n",
    "carpeta_raiz = r\"C:\\Users\\paola\\OneDrive\\4 Tracks de rutas de supervisión\"\n",
    "# Carpeta de salida para los Shapefiles\n",
    "output_folder = os.path.join(carpeta_raiz, \"Shapefiles_Resultados\")\n",
    "os.makedirs(output_folder, exist_ok=True)\n",
    "# Contador global para enumerar las rutas\n",
    "contador_rutas = 1"
   ]
  },
  {
   "cell_type": "code",
   "execution_count": 26,
   "metadata": {},
   "outputs": [
    {
     "name": "stdout",
     "output_type": "stream",
     "text": [
      "Procesando: C:\\Users\\paola\\OneDrive\\4 Tracks de rutas de supervisión\\Semana 05-09 de agosto de 2024\\09_08_2024 06_47_23 a. m..gpx\n",
      "Guardado: C:\\Users\\paola\\OneDrive\\4 Tracks de rutas de supervisión\\Shapefiles_Resultados\\1_09_08_2024 06_47_23 a. m..shp\n",
      "Procesando: C:\\Users\\paola\\OneDrive\\4 Tracks de rutas de supervisión\\Semana 05-09 de agosto de 2024\\El_Roblito_GMM_09_08_2024 05_27_24 a. m..gpx\n",
      "Guardado: C:\\Users\\paola\\OneDrive\\4 Tracks de rutas de supervisión\\Shapefiles_Resultados\\2_09_08_2024 05_27_24 a. m..shp\n",
      "Procesando: C:\\Users\\paola\\OneDrive\\4 Tracks de rutas de supervisión\\Semana 05-09 de agosto de 2024\\El_Roblito_GMM_09_08_2024 08_36_19 a. m..gpx\n",
      "Guardado: C:\\Users\\paola\\OneDrive\\4 Tracks de rutas de supervisión\\Shapefiles_Resultados\\3_09_08_2024 08_36_19 a. m..shp\n",
      "Procesando: C:\\Users\\paola\\OneDrive\\4 Tracks de rutas de supervisión\\Semana 05-09 de agosto de 2024\\El_Roblito_GMM_09_08_2024.gpx\n",
      "Guardado: C:\\Users\\paola\\OneDrive\\4 Tracks de rutas de supervisión\\Shapefiles_Resultados\\4_09_08_2024 08_07_28 a. m..shp\n",
      "Procesando: C:\\Users\\paola\\OneDrive\\4 Tracks de rutas de supervisión\\Semana 05-09 de agosto de 2024\\Paso_hondo_06_08_2024 10_44_52 a. m..gpx\n",
      "Guardado: C:\\Users\\paola\\OneDrive\\4 Tracks de rutas de supervisión\\Shapefiles_Resultados\\5_06_08_2024 10_44_52 a. m..shp\n",
      "Procesando: C:\\Users\\paola\\OneDrive\\4 Tracks de rutas de supervisión\\Semana 05-09 de agosto de 2024\\Paso_Hondo_07_08_2024 09_58_06 a. m..gpx\n"
     ]
    },
    {
     "name": "stderr",
     "output_type": "stream",
     "text": [
      "C:\\Users\\paola\\AppData\\Local\\Temp\\ipykernel_31280\\2466950100.py:51: UserWarning: Column names longer than 10 characters will be truncated when saved to ESRI Shapefile.\n",
      "  grupo.to_file(ruta_archivo, driver='ESRI Shapefile')\n",
      "C:\\Users\\paola\\AppData\\Local\\Temp\\ipykernel_31280\\2466950100.py:51: UserWarning: Column names longer than 10 characters will be truncated when saved to ESRI Shapefile.\n",
      "  grupo.to_file(ruta_archivo, driver='ESRI Shapefile')\n",
      "C:\\Users\\paola\\AppData\\Local\\Temp\\ipykernel_31280\\2466950100.py:51: UserWarning: Column names longer than 10 characters will be truncated when saved to ESRI Shapefile.\n",
      "  grupo.to_file(ruta_archivo, driver='ESRI Shapefile')\n",
      "C:\\Users\\paola\\AppData\\Local\\Temp\\ipykernel_31280\\2466950100.py:51: UserWarning: Column names longer than 10 characters will be truncated when saved to ESRI Shapefile.\n",
      "  grupo.to_file(ruta_archivo, driver='ESRI Shapefile')\n",
      "C:\\Users\\paola\\AppData\\Local\\Temp\\ipykernel_31280\\2466950100.py:51: UserWarning: Column names longer than 10 characters will be truncated when saved to ESRI Shapefile.\n",
      "  grupo.to_file(ruta_archivo, driver='ESRI Shapefile')\n",
      "C:\\Users\\paola\\AppData\\Local\\Temp\\ipykernel_31280\\2466950100.py:51: UserWarning: Column names longer than 10 characters will be truncated when saved to ESRI Shapefile.\n",
      "  grupo.to_file(ruta_archivo, driver='ESRI Shapefile')\n"
     ]
    },
    {
     "name": "stdout",
     "output_type": "stream",
     "text": [
      "Guardado: C:\\Users\\paola\\OneDrive\\4 Tracks de rutas de supervisión\\Shapefiles_Resultados\\6_07_08_2024 09_58_06 a. m..shp\n",
      "Procesando: C:\\Users\\paola\\OneDrive\\4 Tracks de rutas de supervisión\\Semana 05-09 de agosto de 2024\\SALIDAS A CAMPO DEL 05 AL 09 DE AGOSTO DEL 2024.gpx\n"
     ]
    },
    {
     "name": "stderr",
     "output_type": "stream",
     "text": [
      "C:\\Users\\paola\\AppData\\Local\\Temp\\ipykernel_31280\\2466950100.py:51: UserWarning: Column names longer than 10 characters will be truncated when saved to ESRI Shapefile.\n",
      "  grupo.to_file(ruta_archivo, driver='ESRI Shapefile')\n",
      "C:\\Users\\paola\\AppData\\Local\\Temp\\ipykernel_31280\\2466950100.py:51: UserWarning: Column names longer than 10 characters will be truncated when saved to ESRI Shapefile.\n",
      "  grupo.to_file(ruta_archivo, driver='ESRI Shapefile')\n",
      "C:\\Users\\paola\\AppData\\Local\\Temp\\ipykernel_31280\\2466950100.py:51: UserWarning: Column names longer than 10 characters will be truncated when saved to ESRI Shapefile.\n",
      "  grupo.to_file(ruta_archivo, driver='ESRI Shapefile')\n",
      "C:\\Users\\paola\\AppData\\Local\\Temp\\ipykernel_31280\\2466950100.py:51: UserWarning: Column names longer than 10 characters will be truncated when saved to ESRI Shapefile.\n",
      "  grupo.to_file(ruta_archivo, driver='ESRI Shapefile')\n",
      "C:\\Users\\paola\\AppData\\Local\\Temp\\ipykernel_31280\\2466950100.py:51: UserWarning: Column names longer than 10 characters will be truncated when saved to ESRI Shapefile.\n",
      "  grupo.to_file(ruta_archivo, driver='ESRI Shapefile')\n",
      "C:\\Users\\paola\\AppData\\Local\\Temp\\ipykernel_31280\\2466950100.py:51: UserWarning: Column names longer than 10 characters will be truncated when saved to ESRI Shapefile.\n",
      "  grupo.to_file(ruta_archivo, driver='ESRI Shapefile')\n",
      "C:\\Users\\paola\\AppData\\Local\\Temp\\ipykernel_31280\\2466950100.py:51: UserWarning: Column names longer than 10 characters will be truncated when saved to ESRI Shapefile.\n",
      "  grupo.to_file(ruta_archivo, driver='ESRI Shapefile')\n",
      "C:\\Users\\paola\\AppData\\Local\\Temp\\ipykernel_31280\\2466950100.py:51: UserWarning: Column names longer than 10 characters will be truncated when saved to ESRI Shapefile.\n",
      "  grupo.to_file(ruta_archivo, driver='ESRI Shapefile')\n",
      "C:\\Users\\paola\\AppData\\Local\\Temp\\ipykernel_31280\\2466950100.py:51: UserWarning: Column names longer than 10 characters will be truncated when saved to ESRI Shapefile.\n",
      "  grupo.to_file(ruta_archivo, driver='ESRI Shapefile')\n",
      "C:\\Users\\paola\\AppData\\Local\\Temp\\ipykernel_31280\\2466950100.py:51: UserWarning: Column names longer than 10 characters will be truncated when saved to ESRI Shapefile.\n",
      "  grupo.to_file(ruta_archivo, driver='ESRI Shapefile')\n"
     ]
    },
    {
     "name": "stdout",
     "output_type": "stream",
     "text": [
      "Guardado: C:\\Users\\paola\\OneDrive\\4 Tracks de rutas de supervisión\\Shapefiles_Resultados\\7_06_08_2024 05_00_31 a. m..shp\n",
      "Guardado: C:\\Users\\paola\\OneDrive\\4 Tracks de rutas de supervisión\\Shapefiles_Resultados\\8_06_08_2024 07_40_30 a. m..shp\n",
      "Guardado: C:\\Users\\paola\\OneDrive\\4 Tracks de rutas de supervisión\\Shapefiles_Resultados\\9_06_08_2024 09_17_44 a. m..shp\n",
      "Guardado: C:\\Users\\paola\\OneDrive\\4 Tracks de rutas de supervisión\\Shapefiles_Resultados\\10_06_08_2024 10_41_08 a. m..shp\n",
      "Guardado: C:\\Users\\paola\\OneDrive\\4 Tracks de rutas de supervisión\\Shapefiles_Resultados\\11_06_08_2024 10_44_52 a. m..shp\n",
      "Guardado: C:\\Users\\paola\\OneDrive\\4 Tracks de rutas de supervisión\\Shapefiles_Resultados\\12_06_08_2024 10_47_44 a. m..shp\n",
      "Guardado: C:\\Users\\paola\\OneDrive\\4 Tracks de rutas de supervisión\\Shapefiles_Resultados\\13_06_08_2024 11_10_59 a. m..shp\n",
      "Guardado: C:\\Users\\paola\\OneDrive\\4 Tracks de rutas de supervisión\\Shapefiles_Resultados\\14_07_08_2024 05_22_43 a. m..shp\n",
      "Guardado: C:\\Users\\paola\\OneDrive\\4 Tracks de rutas de supervisión\\Shapefiles_Resultados\\15_07_08_2024 06_11_37 a. m..shp\n",
      "Guardado: C:\\Users\\paola\\OneDrive\\4 Tracks de rutas de supervisión\\Shapefiles_Resultados\\16_07_08_2024 06_15_03 a. m..shp\n",
      "Guardado: C:\\Users\\paola\\OneDrive\\4 Tracks de rutas de supervisión\\Shapefiles_Resultados\\17_07_08_2024 07_58_02 a. m..shp\n",
      "Guardado: C:\\Users\\paola\\OneDrive\\4 Tracks de rutas de supervisión\\Shapefiles_Resultados\\18_07_08_2024 08_44_22 a. m..shp\n",
      "Guardado: C:\\Users\\paola\\OneDrive\\4 Tracks de rutas de supervisión\\Shapefiles_Resultados\\19_07_08_2024 09_58_06 a. m..shp\n",
      "Guardado: C:\\Users\\paola\\OneDrive\\4 Tracks de rutas de supervisión\\Shapefiles_Resultados\\20_08_08_2024 04_18_23 p. m..shp\n",
      "Guardado: C:\\Users\\paola\\OneDrive\\4 Tracks de rutas de supervisión\\Shapefiles_Resultados\\21_08_08_2024 06_33_49 a. m..shp\n"
     ]
    },
    {
     "name": "stderr",
     "output_type": "stream",
     "text": [
      "C:\\Users\\paola\\AppData\\Local\\Temp\\ipykernel_31280\\2466950100.py:51: UserWarning: Column names longer than 10 characters will be truncated when saved to ESRI Shapefile.\n",
      "  grupo.to_file(ruta_archivo, driver='ESRI Shapefile')\n",
      "C:\\Users\\paola\\AppData\\Local\\Temp\\ipykernel_31280\\2466950100.py:51: UserWarning: Column names longer than 10 characters will be truncated when saved to ESRI Shapefile.\n",
      "  grupo.to_file(ruta_archivo, driver='ESRI Shapefile')\n",
      "C:\\Users\\paola\\AppData\\Local\\Temp\\ipykernel_31280\\2466950100.py:51: UserWarning: Column names longer than 10 characters will be truncated when saved to ESRI Shapefile.\n",
      "  grupo.to_file(ruta_archivo, driver='ESRI Shapefile')\n",
      "C:\\Users\\paola\\AppData\\Local\\Temp\\ipykernel_31280\\2466950100.py:51: UserWarning: Column names longer than 10 characters will be truncated when saved to ESRI Shapefile.\n",
      "  grupo.to_file(ruta_archivo, driver='ESRI Shapefile')\n",
      "C:\\Users\\paola\\AppData\\Local\\Temp\\ipykernel_31280\\2466950100.py:51: UserWarning: Column names longer than 10 characters will be truncated when saved to ESRI Shapefile.\n",
      "  grupo.to_file(ruta_archivo, driver='ESRI Shapefile')\n",
      "C:\\Users\\paola\\AppData\\Local\\Temp\\ipykernel_31280\\2466950100.py:51: UserWarning: Column names longer than 10 characters will be truncated when saved to ESRI Shapefile.\n",
      "  grupo.to_file(ruta_archivo, driver='ESRI Shapefile')\n"
     ]
    },
    {
     "name": "stdout",
     "output_type": "stream",
     "text": [
      "Guardado: C:\\Users\\paola\\OneDrive\\4 Tracks de rutas de supervisión\\Shapefiles_Resultados\\22_08_08_2024 07_20_24 a. m..shp\n",
      "Guardado: C:\\Users\\paola\\OneDrive\\4 Tracks de rutas de supervisión\\Shapefiles_Resultados\\23_08_08_2024 08_23_24 a. m..shp\n",
      "Guardado: C:\\Users\\paola\\OneDrive\\4 Tracks de rutas de supervisión\\Shapefiles_Resultados\\24_09_08_2024 04_40_43 a. m..shp\n",
      "Guardado: C:\\Users\\paola\\OneDrive\\4 Tracks de rutas de supervisión\\Shapefiles_Resultados\\25_09_08_2024 07_14_31 a. m..shp\n",
      "Guardado: C:\\Users\\paola\\OneDrive\\4 Tracks de rutas de supervisión\\Shapefiles_Resultados\\26_09_08_2024 09_30_24 a. m..shp\n"
     ]
    },
    {
     "name": "stderr",
     "output_type": "stream",
     "text": [
      "C:\\Users\\paola\\AppData\\Local\\Temp\\ipykernel_31280\\2466950100.py:51: UserWarning: Column names longer than 10 characters will be truncated when saved to ESRI Shapefile.\n",
      "  grupo.to_file(ruta_archivo, driver='ESRI Shapefile')\n",
      "C:\\Users\\paola\\AppData\\Local\\Temp\\ipykernel_31280\\2466950100.py:51: UserWarning: Column names longer than 10 characters will be truncated when saved to ESRI Shapefile.\n",
      "  grupo.to_file(ruta_archivo, driver='ESRI Shapefile')\n",
      "C:\\Users\\paola\\AppData\\Local\\Temp\\ipykernel_31280\\2466950100.py:51: UserWarning: Column names longer than 10 characters will be truncated when saved to ESRI Shapefile.\n",
      "  grupo.to_file(ruta_archivo, driver='ESRI Shapefile')\n",
      "C:\\Users\\paola\\AppData\\Local\\Temp\\ipykernel_31280\\2466950100.py:51: UserWarning: Column names longer than 10 characters will be truncated when saved to ESRI Shapefile.\n",
      "  grupo.to_file(ruta_archivo, driver='ESRI Shapefile')\n",
      "C:\\Users\\paola\\AppData\\Local\\Temp\\ipykernel_31280\\2466950100.py:51: UserWarning: Column names longer than 10 characters will be truncated when saved to ESRI Shapefile.\n",
      "  grupo.to_file(ruta_archivo, driver='ESRI Shapefile')\n"
     ]
    },
    {
     "name": "stdout",
     "output_type": "stream",
     "text": [
      "Guardado: C:\\Users\\paola\\OneDrive\\4 Tracks de rutas de supervisión\\Shapefiles_Resultados\\27_SAN MIGUELITO Y EL MACHO R 09082024.shp\n",
      "Guardado: C:\\Users\\paola\\OneDrive\\4 Tracks de rutas de supervisión\\Shapefiles_Resultados\\28_SAN MIGUELITO Y EL MACHO S 09082024.shp\n",
      "Procesando: C:\\Users\\paola\\OneDrive\\4 Tracks de rutas de supervisión\\Semana 07-11 de octubre de 2024\\SANTACRUZ_VHAM_09102024.gpx\n",
      "Guardado: C:\\Users\\paola\\OneDrive\\4 Tracks de rutas de supervisión\\Shapefiles_Resultados\\29_SC monitoreos R 09_10_2024 06_31_11 a. m..shp\n"
     ]
    },
    {
     "name": "stderr",
     "output_type": "stream",
     "text": [
      "C:\\Users\\paola\\AppData\\Local\\Temp\\ipykernel_31280\\2466950100.py:51: UserWarning: Column names longer than 10 characters will be truncated when saved to ESRI Shapefile.\n",
      "  grupo.to_file(ruta_archivo, driver='ESRI Shapefile')\n",
      "C:\\Users\\paola\\AppData\\Local\\Temp\\ipykernel_31280\\2466950100.py:51: UserWarning: Column names longer than 10 characters will be truncated when saved to ESRI Shapefile.\n",
      "  grupo.to_file(ruta_archivo, driver='ESRI Shapefile')\n",
      "C:\\Users\\paola\\AppData\\Local\\Temp\\ipykernel_31280\\2466950100.py:51: UserWarning: Column names longer than 10 characters will be truncated when saved to ESRI Shapefile.\n",
      "  grupo.to_file(ruta_archivo, driver='ESRI Shapefile')\n"
     ]
    },
    {
     "name": "stdout",
     "output_type": "stream",
     "text": [
      "Guardado: C:\\Users\\paola\\OneDrive\\4 Tracks de rutas de supervisión\\Shapefiles_Resultados\\30_SC monitoreos S 09_10_2024 01_02_57 p. m..shp\n",
      "Procesando: C:\\Users\\paola\\OneDrive\\4 Tracks de rutas de supervisión\\semana 09-13 de septiembre de 2024\\Santa Cruz_GMM_MGPR_VHAM_11_09_2024 11_35_11 a. m..gpx\n",
      "Guardado: C:\\Users\\paola\\OneDrive\\4 Tracks de rutas de supervisión\\Shapefiles_Resultados\\31_11_09_2024 11_35_11 a. m..shp\n",
      "Procesando: C:\\Users\\paola\\OneDrive\\4 Tracks de rutas de supervisión\\semana 09-13 de septiembre de 2024\\Santa_Cruz-GMM_MGPR_VHAM_12_09_2024 06_33_02 a. m..gpx\n"
     ]
    },
    {
     "name": "stderr",
     "output_type": "stream",
     "text": [
      "C:\\Users\\paola\\AppData\\Local\\Temp\\ipykernel_31280\\2466950100.py:51: UserWarning: Column names longer than 10 characters will be truncated when saved to ESRI Shapefile.\n",
      "  grupo.to_file(ruta_archivo, driver='ESRI Shapefile')\n",
      "C:\\Users\\paola\\AppData\\Local\\Temp\\ipykernel_31280\\2466950100.py:51: UserWarning: Column names longer than 10 characters will be truncated when saved to ESRI Shapefile.\n",
      "  grupo.to_file(ruta_archivo, driver='ESRI Shapefile')\n"
     ]
    },
    {
     "name": "stdout",
     "output_type": "stream",
     "text": [
      "Guardado: C:\\Users\\paola\\OneDrive\\4 Tracks de rutas de supervisión\\Shapefiles_Resultados\\32_12_09_2024 06_33_02 a. m..shp\n",
      "Procesando: C:\\Users\\paola\\OneDrive\\4 Tracks de rutas de supervisión\\semana 09-13 de septiembre de 2024\\Santa_Cruz_GMM_MGPR_VHAM_10_09_2024 05_45_21 a. m..gpx\n"
     ]
    },
    {
     "name": "stderr",
     "output_type": "stream",
     "text": [
      "C:\\Users\\paola\\AppData\\Local\\Temp\\ipykernel_31280\\2466950100.py:51: UserWarning: Column names longer than 10 characters will be truncated when saved to ESRI Shapefile.\n",
      "  grupo.to_file(ruta_archivo, driver='ESRI Shapefile')\n"
     ]
    },
    {
     "name": "stdout",
     "output_type": "stream",
     "text": [
      "Guardado: C:\\Users\\paola\\OneDrive\\4 Tracks de rutas de supervisión\\Shapefiles_Resultados\\33_10_09_2024 05_45_21 a. m..shp\n",
      "Procesando: C:\\Users\\paola\\OneDrive\\4 Tracks de rutas de supervisión\\semana 09-13 de septiembre de 2024\\Santa_Cruz_GMM_MGPR_VHAM_11_09_2024 06_18_53 a. m..gpx\n",
      "Guardado: C:\\Users\\paola\\OneDrive\\4 Tracks de rutas de supervisión\\Shapefiles_Resultados\\34_11_09_2024 06_18_53 a. m..shp\n",
      "Procesando: C:\\Users\\paola\\OneDrive\\4 Tracks de rutas de supervisión\\semana 09-13 de septiembre de 2024\\Santa_Cruz_GMM_MGPR_VHAM_12_09_2024 11_51_38 a. m..gpx\n"
     ]
    },
    {
     "name": "stderr",
     "output_type": "stream",
     "text": [
      "C:\\Users\\paola\\AppData\\Local\\Temp\\ipykernel_31280\\2466950100.py:51: UserWarning: Column names longer than 10 characters will be truncated when saved to ESRI Shapefile.\n",
      "  grupo.to_file(ruta_archivo, driver='ESRI Shapefile')\n",
      "C:\\Users\\paola\\AppData\\Local\\Temp\\ipykernel_31280\\2466950100.py:51: UserWarning: Column names longer than 10 characters will be truncated when saved to ESRI Shapefile.\n",
      "  grupo.to_file(ruta_archivo, driver='ESRI Shapefile')\n"
     ]
    },
    {
     "name": "stdout",
     "output_type": "stream",
     "text": [
      "Guardado: C:\\Users\\paola\\OneDrive\\4 Tracks de rutas de supervisión\\Shapefiles_Resultados\\35_12_09_2024 11_51_38 a. m..shp\n",
      "Procesando: C:\\Users\\paola\\OneDrive\\4 Tracks de rutas de supervisión\\Semana 14-18 de octubre de 2024\\Paso_Hondo_WAJP_MGPR_VHAM_GMM_15_10_2024 08_26_01 a. m..gpx\n",
      "Guardado: C:\\Users\\paola\\OneDrive\\4 Tracks de rutas de supervisión\\Shapefiles_Resultados\\36_15_10_2024 08_26_01 a. m..shp\n",
      "Procesando: C:\\Users\\paola\\OneDrive\\4 Tracks de rutas de supervisión\\Semana 16-20 de septiembre de 2024\\Paso_Hondo_GMM_VHAM_JLGP_16_09_2024 07_28_36 a. m..gpx\n"
     ]
    },
    {
     "name": "stderr",
     "output_type": "stream",
     "text": [
      "C:\\Users\\paola\\AppData\\Local\\Temp\\ipykernel_31280\\2466950100.py:51: UserWarning: Column names longer than 10 characters will be truncated when saved to ESRI Shapefile.\n",
      "  grupo.to_file(ruta_archivo, driver='ESRI Shapefile')\n",
      "C:\\Users\\paola\\AppData\\Local\\Temp\\ipykernel_31280\\2466950100.py:51: UserWarning: Column names longer than 10 characters will be truncated when saved to ESRI Shapefile.\n",
      "  grupo.to_file(ruta_archivo, driver='ESRI Shapefile')\n"
     ]
    },
    {
     "name": "stdout",
     "output_type": "stream",
     "text": [
      "Guardado: C:\\Users\\paola\\OneDrive\\4 Tracks de rutas de supervisión\\Shapefiles_Resultados\\37_16_09_2024 07_28_36 a. m..shp\n",
      "Procesando: C:\\Users\\paola\\OneDrive\\4 Tracks de rutas de supervisión\\Semana 16-20 de septiembre de 2024\\Santa_Cruz_GMM_MGPR_VHAM_WAJP_18_09_2024 05_48_43 a. m..gpx\n",
      "Guardado: C:\\Users\\paola\\OneDrive\\4 Tracks de rutas de supervisión\\Shapefiles_Resultados\\38_18_09_2024 05_48_43 a. m..shp\n",
      "Procesando: C:\\Users\\paola\\OneDrive\\4 Tracks de rutas de supervisión\\Semana 16-20 de septiembre de 2024\\Santa_Cruz_GMM_MGPR_VHAM_WAJP_18_09_2024 10_21_10 a. m..gpx\n"
     ]
    },
    {
     "name": "stderr",
     "output_type": "stream",
     "text": [
      "C:\\Users\\paola\\AppData\\Local\\Temp\\ipykernel_31280\\2466950100.py:51: UserWarning: Column names longer than 10 characters will be truncated when saved to ESRI Shapefile.\n",
      "  grupo.to_file(ruta_archivo, driver='ESRI Shapefile')\n",
      "C:\\Users\\paola\\AppData\\Local\\Temp\\ipykernel_31280\\2466950100.py:51: UserWarning: Column names longer than 10 characters will be truncated when saved to ESRI Shapefile.\n",
      "  grupo.to_file(ruta_archivo, driver='ESRI Shapefile')\n"
     ]
    },
    {
     "name": "stdout",
     "output_type": "stream",
     "text": [
      "Guardado: C:\\Users\\paola\\OneDrive\\4 Tracks de rutas de supervisión\\Shapefiles_Resultados\\39_18_09_2024 10_21_10 a. m..shp\n",
      "Procesando: C:\\Users\\paola\\OneDrive\\4 Tracks de rutas de supervisión\\Semana 19-23 de agosto de 2024\\ELROBLITO_WAJP_23082024 (1).gpx\n",
      "Guardado: C:\\Users\\paola\\OneDrive\\4 Tracks de rutas de supervisión\\Shapefiles_Resultados\\40_CANAL NER_06 23082024.shp\n",
      "Guardado: C:\\Users\\paola\\OneDrive\\4 Tracks de rutas de supervisión\\Shapefiles_Resultados\\41_EL ROBLITO R 23082024.shp\n",
      "Guardado: C:\\Users\\paola\\OneDrive\\4 Tracks de rutas de supervisión\\Shapefiles_Resultados\\42_EL ROBLITO S 23082024.shp\n",
      "Procesando: C:\\Users\\paola\\OneDrive\\4 Tracks de rutas de supervisión\\Semana 19-23 de agosto de 2024\\ELROBLITO_WAJP_23082024.gpx\n",
      "Guardado: C:\\Users\\paola\\OneDrive\\4 Tracks de rutas de supervisión\\Shapefiles_Resultados\\43_CANAL NER_06 23082024.shp\n",
      "Guardado: C:\\Users\\paola\\OneDrive\\4 Tracks de rutas de supervisión\\Shapefiles_Resultados\\44_EL ROBLITO R 23082024.shp\n",
      "Guardado: C:\\Users\\paola\\OneDrive\\4 Tracks de rutas de supervisión\\Shapefiles_Resultados\\45_EL ROBLITO S 23082024.shp\n",
      "Procesando: C:\\Users\\paola\\OneDrive\\4 Tracks de rutas de supervisión\\Semana 19-23 de agosto de 2024\\NPH_40_HAM_19_08_2024 10_02_54 a. m..gpx\n"
     ]
    },
    {
     "name": "stderr",
     "output_type": "stream",
     "text": [
      "C:\\Users\\paola\\AppData\\Local\\Temp\\ipykernel_31280\\2466950100.py:51: UserWarning: Column names longer than 10 characters will be truncated when saved to ESRI Shapefile.\n",
      "  grupo.to_file(ruta_archivo, driver='ESRI Shapefile')\n",
      "C:\\Users\\paola\\AppData\\Local\\Temp\\ipykernel_31280\\2466950100.py:51: UserWarning: Column names longer than 10 characters will be truncated when saved to ESRI Shapefile.\n",
      "  grupo.to_file(ruta_archivo, driver='ESRI Shapefile')\n",
      "C:\\Users\\paola\\AppData\\Local\\Temp\\ipykernel_31280\\2466950100.py:51: UserWarning: Column names longer than 10 characters will be truncated when saved to ESRI Shapefile.\n",
      "  grupo.to_file(ruta_archivo, driver='ESRI Shapefile')\n",
      "C:\\Users\\paola\\AppData\\Local\\Temp\\ipykernel_31280\\2466950100.py:51: UserWarning: Column names longer than 10 characters will be truncated when saved to ESRI Shapefile.\n",
      "  grupo.to_file(ruta_archivo, driver='ESRI Shapefile')\n",
      "C:\\Users\\paola\\AppData\\Local\\Temp\\ipykernel_31280\\2466950100.py:51: UserWarning: Column names longer than 10 characters will be truncated when saved to ESRI Shapefile.\n",
      "  grupo.to_file(ruta_archivo, driver='ESRI Shapefile')\n",
      "C:\\Users\\paola\\AppData\\Local\\Temp\\ipykernel_31280\\2466950100.py:51: UserWarning: Column names longer than 10 characters will be truncated when saved to ESRI Shapefile.\n",
      "  grupo.to_file(ruta_archivo, driver='ESRI Shapefile')\n",
      "C:\\Users\\paola\\AppData\\Local\\Temp\\ipykernel_31280\\2466950100.py:51: UserWarning: Column names longer than 10 characters will be truncated when saved to ESRI Shapefile.\n",
      "  grupo.to_file(ruta_archivo, driver='ESRI Shapefile')\n",
      "C:\\Users\\paola\\AppData\\Local\\Temp\\ipykernel_31280\\2466950100.py:51: UserWarning: Column names longer than 10 characters will be truncated when saved to ESRI Shapefile.\n",
      "  grupo.to_file(ruta_archivo, driver='ESRI Shapefile')\n"
     ]
    },
    {
     "name": "stdout",
     "output_type": "stream",
     "text": [
      "Guardado: C:\\Users\\paola\\OneDrive\\4 Tracks de rutas de supervisión\\Shapefiles_Resultados\\46_19_08_2024 10_02_54 a. m..shp\n",
      "Procesando: C:\\Users\\paola\\OneDrive\\4 Tracks de rutas de supervisión\\Semana 19-23 de agosto de 2024\\Paso_Hondo_HAM_19_08_2024 07_42_28 a. m..gpx\n",
      "Guardado: C:\\Users\\paola\\OneDrive\\4 Tracks de rutas de supervisión\\Shapefiles_Resultados\\47_19_08_2024 07_42_28 a. m..shp\n",
      "Procesando: C:\\Users\\paola\\OneDrive\\4 Tracks de rutas de supervisión\\Semana 19-23 de agosto de 2024\\Paso_Hondo_HAM_19_08_2024 10_11_38 a. m..gpx\n",
      "Guardado: C:\\Users\\paola\\OneDrive\\4 Tracks de rutas de supervisión\\Shapefiles_Resultados\\48_19_08_2024 10_11_38 a. m..shp\n",
      "Procesando: C:\\Users\\paola\\OneDrive\\4 Tracks de rutas de supervisión\\Semana 19-23 de agosto de 2024\\Pericos_GMM_AAR_19_08_2024 07_12_14 a. m..gpx\n"
     ]
    },
    {
     "name": "stderr",
     "output_type": "stream",
     "text": [
      "C:\\Users\\paola\\AppData\\Local\\Temp\\ipykernel_31280\\2466950100.py:51: UserWarning: Column names longer than 10 characters will be truncated when saved to ESRI Shapefile.\n",
      "  grupo.to_file(ruta_archivo, driver='ESRI Shapefile')\n",
      "C:\\Users\\paola\\AppData\\Local\\Temp\\ipykernel_31280\\2466950100.py:51: UserWarning: Column names longer than 10 characters will be truncated when saved to ESRI Shapefile.\n",
      "  grupo.to_file(ruta_archivo, driver='ESRI Shapefile')\n"
     ]
    },
    {
     "name": "stdout",
     "output_type": "stream",
     "text": [
      "Guardado: C:\\Users\\paola\\OneDrive\\4 Tracks de rutas de supervisión\\Shapefiles_Resultados\\49_19_08_2024 07_12_14 a. m..shp\n",
      "Procesando: C:\\Users\\paola\\OneDrive\\4 Tracks de rutas de supervisión\\Semana 19-23 de agosto de 2024\\Pericos_GMM_WJP_20_08_2024 09_29_48 a. m..gpx\n",
      "Guardado: C:\\Users\\paola\\OneDrive\\4 Tracks de rutas de supervisión\\Shapefiles_Resultados\\50_20_08_2024 09_29_48 a. m..shp\n",
      "Procesando: C:\\Users\\paola\\OneDrive\\4 Tracks de rutas de supervisión\\Semana 23-27 de septiembre de 2024\\ELROBLITO_WAJP_GMM_VHAM_26092024.gpx\n",
      "Guardado: C:\\Users\\paola\\OneDrive\\4 Tracks de rutas de supervisión\\Shapefiles_Resultados\\51_EL ROBLITO R 26092024.shp\n"
     ]
    },
    {
     "name": "stderr",
     "output_type": "stream",
     "text": [
      "C:\\Users\\paola\\AppData\\Local\\Temp\\ipykernel_31280\\2466950100.py:51: UserWarning: Column names longer than 10 characters will be truncated when saved to ESRI Shapefile.\n",
      "  grupo.to_file(ruta_archivo, driver='ESRI Shapefile')\n",
      "C:\\Users\\paola\\AppData\\Local\\Temp\\ipykernel_31280\\2466950100.py:51: UserWarning: Column names longer than 10 characters will be truncated when saved to ESRI Shapefile.\n",
      "  grupo.to_file(ruta_archivo, driver='ESRI Shapefile')\n",
      "C:\\Users\\paola\\AppData\\Local\\Temp\\ipykernel_31280\\2466950100.py:51: UserWarning: Column names longer than 10 characters will be truncated when saved to ESRI Shapefile.\n",
      "  grupo.to_file(ruta_archivo, driver='ESRI Shapefile')\n"
     ]
    },
    {
     "name": "stdout",
     "output_type": "stream",
     "text": [
      "Guardado: C:\\Users\\paola\\OneDrive\\4 Tracks de rutas de supervisión\\Shapefiles_Resultados\\52_EL ROBLITO S 26092024.shp\n",
      "Procesando: C:\\Users\\paola\\OneDrive\\4 Tracks de rutas de supervisión\\Semana 23-27 de septiembre de 2024\\Paso_Hondo_GMM_MGPR_VHAM_24_09_2024 06_32_27 a. m..gpx\n"
     ]
    },
    {
     "name": "stderr",
     "output_type": "stream",
     "text": [
      "C:\\Users\\paola\\AppData\\Local\\Temp\\ipykernel_31280\\2466950100.py:51: UserWarning: Column names longer than 10 characters will be truncated when saved to ESRI Shapefile.\n",
      "  grupo.to_file(ruta_archivo, driver='ESRI Shapefile')\n"
     ]
    },
    {
     "name": "stdout",
     "output_type": "stream",
     "text": [
      "Guardado: C:\\Users\\paola\\OneDrive\\4 Tracks de rutas de supervisión\\Shapefiles_Resultados\\53_24_09_2024 06_32_27 a. m..shp\n",
      "Procesando: C:\\Users\\paola\\OneDrive\\4 Tracks de rutas de supervisión\\Semana 23-27 de septiembre de 2024\\Tepic_GMM_MGPR_23_09_2024 08_58_20 a. m..gpx\n"
     ]
    },
    {
     "name": "stderr",
     "output_type": "stream",
     "text": [
      "C:\\Users\\paola\\AppData\\Local\\Temp\\ipykernel_31280\\2466950100.py:51: UserWarning: Column names longer than 10 characters will be truncated when saved to ESRI Shapefile.\n",
      "  grupo.to_file(ruta_archivo, driver='ESRI Shapefile')\n"
     ]
    },
    {
     "name": "stdout",
     "output_type": "stream",
     "text": [
      "Guardado: C:\\Users\\paola\\OneDrive\\4 Tracks de rutas de supervisión\\Shapefiles_Resultados\\54_23_09_2024 08_58_20 a. m..shp\n",
      "Procesando: C:\\Users\\paola\\OneDrive\\4 Tracks de rutas de supervisión\\Semana 26-30 de agosto de 2024\\NPH_32_VHAM_JGC_28_08_2024 09_09_09 a. m..gpx\n",
      "Guardado: C:\\Users\\paola\\OneDrive\\4 Tracks de rutas de supervisión\\Shapefiles_Resultados\\55_28_08_2024 09_09_09 a. m..shp\n",
      "Procesando: C:\\Users\\paola\\OneDrive\\4 Tracks de rutas de supervisión\\Semana 26-30 de agosto de 2024\\Nuevo_San_Cayetano_GMM_GGPR_VHAM_29_08_2024 06_46_44 a. m..gpx\n",
      "Guardado: C:\\Users\\paola\\OneDrive\\4 Tracks de rutas de supervisión\\Shapefiles_Resultados\\56_29_08_2024 06_46_44 a. m..shp\n",
      "Procesando: C:\\Users\\paola\\OneDrive\\4 Tracks de rutas de supervisión\\Semana 26-30 de agosto de 2024\\Nuevo_San_Cayetano_GMM_MGPR_VHAM_29_08_2024 02_05_44 p. m..gpx\n"
     ]
    },
    {
     "name": "stderr",
     "output_type": "stream",
     "text": [
      "C:\\Users\\paola\\AppData\\Local\\Temp\\ipykernel_31280\\2466950100.py:51: UserWarning: Column names longer than 10 characters will be truncated when saved to ESRI Shapefile.\n",
      "  grupo.to_file(ruta_archivo, driver='ESRI Shapefile')\n",
      "C:\\Users\\paola\\AppData\\Local\\Temp\\ipykernel_31280\\2466950100.py:51: UserWarning: Column names longer than 10 characters will be truncated when saved to ESRI Shapefile.\n",
      "  grupo.to_file(ruta_archivo, driver='ESRI Shapefile')\n",
      "C:\\Users\\paola\\AppData\\Local\\Temp\\ipykernel_31280\\2466950100.py:51: UserWarning: Column names longer than 10 characters will be truncated when saved to ESRI Shapefile.\n",
      "  grupo.to_file(ruta_archivo, driver='ESRI Shapefile')\n",
      "C:\\Users\\paola\\AppData\\Local\\Temp\\ipykernel_31280\\2466950100.py:51: UserWarning: Column names longer than 10 characters will be truncated when saved to ESRI Shapefile.\n",
      "  grupo.to_file(ruta_archivo, driver='ESRI Shapefile')\n",
      "C:\\Users\\paola\\AppData\\Local\\Temp\\ipykernel_31280\\2466950100.py:51: UserWarning: Column names longer than 10 characters will be truncated when saved to ESRI Shapefile.\n",
      "  grupo.to_file(ruta_archivo, driver='ESRI Shapefile')\n",
      "C:\\Users\\paola\\AppData\\Local\\Temp\\ipykernel_31280\\2466950100.py:51: UserWarning: Column names longer than 10 characters will be truncated when saved to ESRI Shapefile.\n",
      "  grupo.to_file(ruta_archivo, driver='ESRI Shapefile')\n",
      "C:\\Users\\paola\\AppData\\Local\\Temp\\ipykernel_31280\\2466950100.py:51: UserWarning: Column names longer than 10 characters will be truncated when saved to ESRI Shapefile.\n",
      "  grupo.to_file(ruta_archivo, driver='ESRI Shapefile')\n",
      "C:\\Users\\paola\\AppData\\Local\\Temp\\ipykernel_31280\\2466950100.py:51: UserWarning: Column names longer than 10 characters will be truncated when saved to ESRI Shapefile.\n",
      "  grupo.to_file(ruta_archivo, driver='ESRI Shapefile')\n"
     ]
    },
    {
     "name": "stdout",
     "output_type": "stream",
     "text": [
      "Guardado: C:\\Users\\paola\\OneDrive\\4 Tracks de rutas de supervisión\\Shapefiles_Resultados\\57_29_08_2024 02_05_44 p. m..shp\n",
      "Procesando: C:\\Users\\paola\\OneDrive\\4 Tracks de rutas de supervisión\\Semana 26-30 de agosto de 2024\\PASOHONDO_WAJP_29082024.gpx\n",
      "Guardado: C:\\Users\\paola\\OneDrive\\4 Tracks de rutas de supervisión\\Shapefiles_Resultados\\58_29_08_2024 09_08_49 a. m..shp\n",
      "Guardado: C:\\Users\\paola\\OneDrive\\4 Tracks de rutas de supervisión\\Shapefiles_Resultados\\59_29_08_2024 10_47_33 a. m..shp\n",
      "Procesando: C:\\Users\\paola\\OneDrive\\4 Tracks de rutas de supervisión\\Semana 26-30 de agosto de 2024\\PASOHONDO_WAJP_30082024.gpx\n",
      "Guardado: C:\\Users\\paola\\OneDrive\\4 Tracks de rutas de supervisión\\Shapefiles_Resultados\\60_CANAL NPH_32 30082024.shp\n",
      "Guardado: C:\\Users\\paola\\OneDrive\\4 Tracks de rutas de supervisión\\Shapefiles_Resultados\\61_REGRESO DEL MACHO 30082024.shp\n",
      "Guardado: C:\\Users\\paola\\OneDrive\\4 Tracks de rutas de supervisión\\Shapefiles_Resultados\\62_SALIDA DEL MACHO 30082024.shp\n",
      "Procesando: C:\\Users\\paola\\OneDrive\\4 Tracks de rutas de supervisión\\Semana 26-30 de agosto de 2024\\Paso_Hondo_MGPR_JGC_27_08_2024 05_09_56 a. m..gpx\n"
     ]
    },
    {
     "name": "stderr",
     "output_type": "stream",
     "text": [
      "C:\\Users\\paola\\AppData\\Local\\Temp\\ipykernel_31280\\2466950100.py:51: UserWarning: Column names longer than 10 characters will be truncated when saved to ESRI Shapefile.\n",
      "  grupo.to_file(ruta_archivo, driver='ESRI Shapefile')\n",
      "C:\\Users\\paola\\AppData\\Local\\Temp\\ipykernel_31280\\2466950100.py:51: UserWarning: Column names longer than 10 characters will be truncated when saved to ESRI Shapefile.\n",
      "  grupo.to_file(ruta_archivo, driver='ESRI Shapefile')\n",
      "C:\\Users\\paola\\AppData\\Local\\Temp\\ipykernel_31280\\2466950100.py:51: UserWarning: Column names longer than 10 characters will be truncated when saved to ESRI Shapefile.\n",
      "  grupo.to_file(ruta_archivo, driver='ESRI Shapefile')\n",
      "C:\\Users\\paola\\AppData\\Local\\Temp\\ipykernel_31280\\2466950100.py:51: UserWarning: Column names longer than 10 characters will be truncated when saved to ESRI Shapefile.\n",
      "  grupo.to_file(ruta_archivo, driver='ESRI Shapefile')\n",
      "C:\\Users\\paola\\AppData\\Local\\Temp\\ipykernel_31280\\2466950100.py:51: UserWarning: Column names longer than 10 characters will be truncated when saved to ESRI Shapefile.\n",
      "  grupo.to_file(ruta_archivo, driver='ESRI Shapefile')\n"
     ]
    },
    {
     "name": "stdout",
     "output_type": "stream",
     "text": [
      "Guardado: C:\\Users\\paola\\OneDrive\\4 Tracks de rutas de supervisión\\Shapefiles_Resultados\\63_27_08_2024 05_09_56 a. m..shp\n",
      "Procesando: C:\\Users\\paola\\OneDrive\\4 Tracks de rutas de supervisión\\Semana 26-30 de agosto de 2024\\Paso_Hondo_MGPR_JGC_27_08_2024 07_58_47 a. m..gpx\n",
      "Guardado: C:\\Users\\paola\\OneDrive\\4 Tracks de rutas de supervisión\\Shapefiles_Resultados\\64_27_08_2024 07_58_47 a. m..shp\n",
      "Procesando: C:\\Users\\paola\\OneDrive\\4 Tracks de rutas de supervisión\\Semana 26-30 de agosto de 2024\\Paso_Hondo_MGPR_JGC_27_08_2024 09_32_58 a. m..gpx\n",
      "Guardado: C:\\Users\\paola\\OneDrive\\4 Tracks de rutas de supervisión\\Shapefiles_Resultados\\65_27_08_2024 09_32_58 a. m..shp\n",
      "Procesando: C:\\Users\\paola\\OneDrive\\4 Tracks de rutas de supervisión\\Semana 26-30 de agosto de 2024\\Pericos_Canal_artificial_30_08_2024 08_19_45 a. m..gpx\n",
      "Guardado: C:\\Users\\paola\\OneDrive\\4 Tracks de rutas de supervisión\\Shapefiles_Resultados\\66_30_08_2024 08_19_45 a. m..shp\n",
      "Procesando: C:\\Users\\paola\\OneDrive\\4 Tracks de rutas de supervisión\\Semana 26-30 de agosto de 2024\\Pericos_Canal_artificial_30_08_2024 09_04_01 a. m..gpx\n",
      "Guardado: C:\\Users\\paola\\OneDrive\\4 Tracks de rutas de supervisión\\Shapefiles_Resultados\\67_30_08_2024 09_04_01 a. m..shp\n",
      "Procesando: C:\\Users\\paola\\OneDrive\\4 Tracks de rutas de supervisión\\Semana 26-30 de agosto de 2024\\Pericos_GMM_WAJP_VHAM_27_08_2024 08_32_09 a. m..gpx\n"
     ]
    },
    {
     "name": "stderr",
     "output_type": "stream",
     "text": [
      "C:\\Users\\paola\\AppData\\Local\\Temp\\ipykernel_31280\\2466950100.py:51: UserWarning: Column names longer than 10 characters will be truncated when saved to ESRI Shapefile.\n",
      "  grupo.to_file(ruta_archivo, driver='ESRI Shapefile')\n",
      "C:\\Users\\paola\\AppData\\Local\\Temp\\ipykernel_31280\\2466950100.py:51: UserWarning: Column names longer than 10 characters will be truncated when saved to ESRI Shapefile.\n",
      "  grupo.to_file(ruta_archivo, driver='ESRI Shapefile')\n"
     ]
    },
    {
     "name": "stdout",
     "output_type": "stream",
     "text": [
      "Guardado: C:\\Users\\paola\\OneDrive\\4 Tracks de rutas de supervisión\\Shapefiles_Resultados\\68_27_08_2024 08_32_09 a. m..shp\n",
      "Procesando: C:\\Users\\paola\\OneDrive\\4 Tracks de rutas de supervisión\\Semana 26-30 de agosto de 2024\\Pericos_GMM_WAJP_VHJM_27_08_2024 05_21_16 a. m..gpx\n",
      "Guardado: C:\\Users\\paola\\OneDrive\\4 Tracks de rutas de supervisión\\Shapefiles_Resultados\\69_27_08_2024 05_21_16 a. m..shp\n",
      "Procesando: C:\\Users\\paola\\OneDrive\\4 Tracks de rutas de supervisión\\Semana 26-30 de agosto de 2024\\Pericos_MGPR_VHAM_30_08_2024 05_08_10 a. m..gpx\n",
      "Guardado: C:\\Users\\paola\\OneDrive\\4 Tracks de rutas de supervisión\\Shapefiles_Resultados\\70_30_08_2024 05_08_10 a. m..shp\n",
      "Procesando: C:\\Users\\paola\\OneDrive\\4 Tracks de rutas de supervisión\\Semana 26-30 de agosto de 2024\\Pericos_MGPR_VHAM_30_08_2024 09_16_13 a. m..gpx\n"
     ]
    },
    {
     "name": "stderr",
     "output_type": "stream",
     "text": [
      "C:\\Users\\paola\\AppData\\Local\\Temp\\ipykernel_31280\\2466950100.py:51: UserWarning: Column names longer than 10 characters will be truncated when saved to ESRI Shapefile.\n",
      "  grupo.to_file(ruta_archivo, driver='ESRI Shapefile')\n",
      "C:\\Users\\paola\\AppData\\Local\\Temp\\ipykernel_31280\\2466950100.py:51: UserWarning: Column names longer than 10 characters will be truncated when saved to ESRI Shapefile.\n",
      "  grupo.to_file(ruta_archivo, driver='ESRI Shapefile')\n",
      "C:\\Users\\paola\\AppData\\Local\\Temp\\ipykernel_31280\\2466950100.py:51: UserWarning: Column names longer than 10 characters will be truncated when saved to ESRI Shapefile.\n",
      "  grupo.to_file(ruta_archivo, driver='ESRI Shapefile')\n"
     ]
    },
    {
     "name": "stdout",
     "output_type": "stream",
     "text": [
      "Guardado: C:\\Users\\paola\\OneDrive\\4 Tracks de rutas de supervisión\\Shapefiles_Resultados\\71_30_08_2024 09_16_13 a. m..shp\n",
      "Procesando: C:\\Users\\paola\\OneDrive\\4 Tracks de rutas de supervisión\\Semana 30 sep-04 octubre de 2024\\Paso_Hondo_GMM_WAJP_VHAM_MGPR_ 02_10_2024 12_12_55 p. m..gpx\n",
      "Guardado: C:\\Users\\paola\\OneDrive\\4 Tracks de rutas de supervisión\\Shapefiles_Resultados\\72_PH monitoreo R 02_10_2024 12_12_55 p. m..shp\n",
      "Procesando: C:\\Users\\paola\\OneDrive\\4 Tracks de rutas de supervisión\\Semana 30 sep-04 octubre de 2024\\Paso_Hondo_GMM_WAJP_VHAM_MGPR_02_10_2024 06_26_21 a. m..gpx\n"
     ]
    },
    {
     "name": "stderr",
     "output_type": "stream",
     "text": [
      "C:\\Users\\paola\\AppData\\Local\\Temp\\ipykernel_31280\\2466950100.py:51: UserWarning: Column names longer than 10 characters will be truncated when saved to ESRI Shapefile.\n",
      "  grupo.to_file(ruta_archivo, driver='ESRI Shapefile')\n",
      "C:\\Users\\paola\\AppData\\Local\\Temp\\ipykernel_31280\\2466950100.py:51: UserWarning: Column names longer than 10 characters will be truncated when saved to ESRI Shapefile.\n",
      "  grupo.to_file(ruta_archivo, driver='ESRI Shapefile')\n"
     ]
    },
    {
     "name": "stdout",
     "output_type": "stream",
     "text": [
      "Guardado: C:\\Users\\paola\\OneDrive\\4 Tracks de rutas de supervisión\\Shapefiles_Resultados\\73_PH S monitoreo S 02_10_2024 06_26_21 a. m..shp\n",
      "Procesando: C:\\Users\\paola\\OneDrive\\4 Tracks de rutas de supervisión\\Semana 30 sep-04 octubre de 2024\\Paso_Hondo_GMM_WAJP_VHAM_MGPR_03_10_2024 06_03_27 a. m..gpx\n",
      "Guardado: C:\\Users\\paola\\OneDrive\\4 Tracks de rutas de supervisión\\Shapefiles_Resultados\\74_PH monitoreo S 03_10_2024 06_03_27 a. m..shp\n",
      "Procesando: C:\\Users\\paola\\OneDrive\\4 Tracks de rutas de supervisión\\Semana 30 sep-04 octubre de 2024\\Paso_Hondo_GMM_WAJP_VHAM_MGPR_03_10_2024 08_11_36 a. m..gpx\n"
     ]
    },
    {
     "name": "stderr",
     "output_type": "stream",
     "text": [
      "C:\\Users\\paola\\AppData\\Local\\Temp\\ipykernel_31280\\2466950100.py:51: UserWarning: Column names longer than 10 characters will be truncated when saved to ESRI Shapefile.\n",
      "  grupo.to_file(ruta_archivo, driver='ESRI Shapefile')\n",
      "C:\\Users\\paola\\AppData\\Local\\Temp\\ipykernel_31280\\2466950100.py:51: UserWarning: Column names longer than 10 characters will be truncated when saved to ESRI Shapefile.\n",
      "  grupo.to_file(ruta_archivo, driver='ESRI Shapefile')\n",
      "C:\\Users\\paola\\AppData\\Local\\Temp\\ipykernel_31280\\2466950100.py:51: UserWarning: Column names longer than 10 characters will be truncated when saved to ESRI Shapefile.\n",
      "  grupo.to_file(ruta_archivo, driver='ESRI Shapefile')\n"
     ]
    },
    {
     "name": "stdout",
     "output_type": "stream",
     "text": [
      "Guardado: C:\\Users\\paola\\OneDrive\\4 Tracks de rutas de supervisión\\Shapefiles_Resultados\\75_PH monitoreo R 03_10_2024 08_11_36 a. m..shp\n",
      "Procesando: C:\\Users\\paola\\OneDrive\\4 Tracks de rutas de supervisión\\Semana del 01-05 de julio\\El_Roblito_AAR_HAM_I_02_07_2024 05_24_03 a. m..gpx\n",
      "Guardado: C:\\Users\\paola\\OneDrive\\4 Tracks de rutas de supervisión\\Shapefiles_Resultados\\76_El_Roblito_AAR_HAM_I_02_07_2024 05_24_03 a. m..shp\n",
      "Procesando: C:\\Users\\paola\\OneDrive\\4 Tracks de rutas de supervisión\\Semana del 01-05 de julio\\El_Roblito_AAR_HAM_R_02_07_2024 09_47_06 a. m..gpx\n",
      "Guardado: C:\\Users\\paola\\OneDrive\\4 Tracks de rutas de supervisión\\Shapefiles_Resultados\\77_El_Roblito_AAR_HAM_R_02_07_2024 09_47_06 a. m..shp\n",
      "Procesando: C:\\Users\\paola\\OneDrive\\4 Tracks de rutas de supervisión\\Semana del 01-05 de julio\\El_Roblito_GMM_WJP_AAR_HAM_04_07_2024 11_39_42 a. m..gpx\n",
      "Guardado: C:\\Users\\paola\\OneDrive\\4 Tracks de rutas de supervisión\\Shapefiles_Resultados\\78_El_Roblito_GMM_WJP_AAR_HAM_04_07_2024 11_39_42 a. m..shp\n",
      "Procesando: C:\\Users\\paola\\OneDrive\\4 Tracks de rutas de supervisión\\Semana del 01-05 de julio\\EL_Roblito_HAM_GMM_I_05_07_2024 05_13_57 a. m. .gpx\n",
      "Guardado: C:\\Users\\paola\\OneDrive\\4 Tracks de rutas de supervisión\\Shapefiles_Resultados\\79_EL_Roblito_HAM_GMM_I_05_07_2024 05_13_57 a. m..shp\n",
      "Procesando: C:\\Users\\paola\\OneDrive\\4 Tracks de rutas de supervisión\\Semana del 01-05 de julio\\EL_Roblito_HAM_GMM_R_05_07_2024 09_41_14 a. m. .gpx\n",
      "Guardado: C:\\Users\\paola\\OneDrive\\4 Tracks de rutas de supervisión\\Shapefiles_Resultados\\80_EL_Roblito_HAM_GMM_R_05_07_2024 09_41_14 a. m..shp\n",
      "Procesando: C:\\Users\\paola\\OneDrive\\4 Tracks de rutas de supervisión\\Semana del 01-05 de julio\\PASOHONDO_MGPR_04072024.gpx\n"
     ]
    },
    {
     "name": "stderr",
     "output_type": "stream",
     "text": [
      "C:\\Users\\paola\\AppData\\Local\\Temp\\ipykernel_31280\\2466950100.py:51: UserWarning: Column names longer than 10 characters will be truncated when saved to ESRI Shapefile.\n",
      "  grupo.to_file(ruta_archivo, driver='ESRI Shapefile')\n",
      "C:\\Users\\paola\\AppData\\Local\\Temp\\ipykernel_31280\\2466950100.py:51: UserWarning: Column names longer than 10 characters will be truncated when saved to ESRI Shapefile.\n",
      "  grupo.to_file(ruta_archivo, driver='ESRI Shapefile')\n",
      "C:\\Users\\paola\\AppData\\Local\\Temp\\ipykernel_31280\\2466950100.py:51: UserWarning: Column names longer than 10 characters will be truncated when saved to ESRI Shapefile.\n",
      "  grupo.to_file(ruta_archivo, driver='ESRI Shapefile')\n",
      "C:\\Users\\paola\\AppData\\Local\\Temp\\ipykernel_31280\\2466950100.py:51: UserWarning: Column names longer than 10 characters will be truncated when saved to ESRI Shapefile.\n",
      "  grupo.to_file(ruta_archivo, driver='ESRI Shapefile')\n"
     ]
    },
    {
     "name": "stdout",
     "output_type": "stream",
     "text": [
      "Guardado: C:\\Users\\paola\\OneDrive\\4 Tracks de rutas de supervisión\\Shapefiles_Resultados\\81_PASOHONDO_MGPR_04072024.shp\n",
      "Procesando: C:\\Users\\paola\\OneDrive\\4 Tracks de rutas de supervisión\\Semana del 01-05 de julio\\SANTA_CRUZ_SAN ANDRES_SALIDAS A CAMPO 02-03 DE JULIO 24.gpx\n"
     ]
    },
    {
     "name": "stderr",
     "output_type": "stream",
     "text": [
      "C:\\Users\\paola\\AppData\\Local\\Temp\\ipykernel_31280\\2466950100.py:51: UserWarning: Column names longer than 10 characters will be truncated when saved to ESRI Shapefile.\n",
      "  grupo.to_file(ruta_archivo, driver='ESRI Shapefile')\n",
      "C:\\Users\\paola\\AppData\\Local\\Temp\\ipykernel_31280\\2466950100.py:51: UserWarning: Column names longer than 10 characters will be truncated when saved to ESRI Shapefile.\n",
      "  grupo.to_file(ruta_archivo, driver='ESRI Shapefile')\n",
      "C:\\Users\\paola\\AppData\\Local\\Temp\\ipykernel_31280\\2466950100.py:51: UserWarning: Column names longer than 10 characters will be truncated when saved to ESRI Shapefile.\n",
      "  grupo.to_file(ruta_archivo, driver='ESRI Shapefile')\n",
      "C:\\Users\\paola\\AppData\\Local\\Temp\\ipykernel_31280\\2466950100.py:51: UserWarning: Column names longer than 10 characters will be truncated when saved to ESRI Shapefile.\n",
      "  grupo.to_file(ruta_archivo, driver='ESRI Shapefile')\n",
      "C:\\Users\\paola\\AppData\\Local\\Temp\\ipykernel_31280\\2466950100.py:51: UserWarning: Column names longer than 10 characters will be truncated when saved to ESRI Shapefile.\n",
      "  grupo.to_file(ruta_archivo, driver='ESRI Shapefile')\n",
      "C:\\Users\\paola\\AppData\\Local\\Temp\\ipykernel_31280\\2466950100.py:51: UserWarning: Column names longer than 10 characters will be truncated when saved to ESRI Shapefile.\n",
      "  grupo.to_file(ruta_archivo, driver='ESRI Shapefile')\n",
      "C:\\Users\\paola\\AppData\\Local\\Temp\\ipykernel_31280\\2466950100.py:51: UserWarning: Column names longer than 10 characters will be truncated when saved to ESRI Shapefile.\n",
      "  grupo.to_file(ruta_archivo, driver='ESRI Shapefile')\n"
     ]
    },
    {
     "name": "stdout",
     "output_type": "stream",
     "text": [
      "Guardado: C:\\Users\\paola\\OneDrive\\4 Tracks de rutas de supervisión\\Shapefiles_Resultados\\82_El_Roblito_AAR_HAM_I_02_07_2024 05_24_03 a. m..shp\n",
      "Guardado: C:\\Users\\paola\\OneDrive\\4 Tracks de rutas de supervisión\\Shapefiles_Resultados\\83_El_Roblito_AAR_HAM_R_02_07_2024 09_47_06 a. m..shp\n",
      "Guardado: C:\\Users\\paola\\OneDrive\\4 Tracks de rutas de supervisión\\Shapefiles_Resultados\\84_Paso_Hondo_AAR_JGC_I_03_07_2024 04_59_09 a. m..shp\n",
      "Guardado: C:\\Users\\paola\\OneDrive\\4 Tracks de rutas de supervisión\\Shapefiles_Resultados\\85_Paso_Hondo_AAR_JGC_R_03_07_2024 12_10_00 p. m..shp\n",
      "Guardado: C:\\Users\\paola\\OneDrive\\4 Tracks de rutas de supervisión\\Shapefiles_Resultados\\86_SAN ANDRES R_STA CRUZ_MGPR_WAJP_ 03072024.shp\n",
      "Guardado: C:\\Users\\paola\\OneDrive\\4 Tracks de rutas de supervisión\\Shapefiles_Resultados\\87_SAN ANDRES_SANTA CRUZ_WAJP_MGPR_ 03072024.shp\n",
      "Guardado: C:\\Users\\paola\\OneDrive\\4 Tracks de rutas de supervisión\\Shapefiles_Resultados\\88_SAN ANDRES_STACRUZS_WAJP_MGPR_02072024.shp\n",
      "Guardado: C:\\Users\\paola\\OneDrive\\4 Tracks de rutas de supervisión\\Shapefiles_Resultados\\89_SAN ANDRES_STA_CRUZ_MGPR_WAJP_R 02072024.shp\n",
      "Procesando: C:\\Users\\paola\\OneDrive\\4 Tracks de rutas de supervisión\\Semana del 01-05 de julio\\SANTA_CRUZ_SAN ANDRES_SALIDAS A CAMPO 5 DE JULIO 2024.gpx\n"
     ]
    },
    {
     "name": "stderr",
     "output_type": "stream",
     "text": [
      "C:\\Users\\paola\\AppData\\Local\\Temp\\ipykernel_31280\\2466950100.py:51: UserWarning: Column names longer than 10 characters will be truncated when saved to ESRI Shapefile.\n",
      "  grupo.to_file(ruta_archivo, driver='ESRI Shapefile')\n",
      "C:\\Users\\paola\\AppData\\Local\\Temp\\ipykernel_31280\\2466950100.py:51: UserWarning: Column names longer than 10 characters will be truncated when saved to ESRI Shapefile.\n",
      "  grupo.to_file(ruta_archivo, driver='ESRI Shapefile')\n"
     ]
    },
    {
     "name": "stdout",
     "output_type": "stream",
     "text": [
      "Guardado: C:\\Users\\paola\\OneDrive\\4 Tracks de rutas de supervisión\\Shapefiles_Resultados\\90_SANANDRES_WAJP_MGPR_05072024.shp\n",
      "Guardado: C:\\Users\\paola\\OneDrive\\4 Tracks de rutas de supervisión\\Shapefiles_Resultados\\91_SAN_ANDRES_WAJP_MGPR_05072024.shp\n",
      "Guardado: C:\\Users\\paola\\OneDrive\\4 Tracks de rutas de supervisión\\Shapefiles_Resultados\\92_STA_CRUZ_MGPR_WAJP_05072024.shp\n",
      "Procesando: C:\\Users\\paola\\OneDrive\\4 Tracks de rutas de supervisión\\Semana del 04-08 de noviembre\\SALIDAS A CAMPO PASO HONDO DEL 04 AL 08 DE NOVIEMBRE 2024.gpx\n"
     ]
    },
    {
     "name": "stderr",
     "output_type": "stream",
     "text": [
      "C:\\Users\\paola\\AppData\\Local\\Temp\\ipykernel_31280\\2466950100.py:51: UserWarning: Column names longer than 10 characters will be truncated when saved to ESRI Shapefile.\n",
      "  grupo.to_file(ruta_archivo, driver='ESRI Shapefile')\n",
      "C:\\Users\\paola\\AppData\\Local\\Temp\\ipykernel_31280\\2466950100.py:51: UserWarning: Column names longer than 10 characters will be truncated when saved to ESRI Shapefile.\n",
      "  grupo.to_file(ruta_archivo, driver='ESRI Shapefile')\n",
      "C:\\Users\\paola\\AppData\\Local\\Temp\\ipykernel_31280\\2466950100.py:51: UserWarning: Column names longer than 10 characters will be truncated when saved to ESRI Shapefile.\n",
      "  grupo.to_file(ruta_archivo, driver='ESRI Shapefile')\n",
      "C:\\Users\\paola\\AppData\\Local\\Temp\\ipykernel_31280\\2466950100.py:51: UserWarning: Column names longer than 10 characters will be truncated when saved to ESRI Shapefile.\n",
      "  grupo.to_file(ruta_archivo, driver='ESRI Shapefile')\n"
     ]
    },
    {
     "name": "stdout",
     "output_type": "stream",
     "text": [
      "Guardado: C:\\Users\\paola\\OneDrive\\4 Tracks de rutas de supervisión\\Shapefiles_Resultados\\93_07_11_2024 06_07_31 a. m..shp\n",
      "Guardado: C:\\Users\\paola\\OneDrive\\4 Tracks de rutas de supervisión\\Shapefiles_Resultados\\94_08_11_2024 05_57_19 a. m..shp\n",
      "Procesando: C:\\Users\\paola\\OneDrive\\4 Tracks de rutas de supervisión\\Semana del 04-08 de noviembre\\salidas a campo san cayetano del 04 al 08 de noviembre del 2024.gpx\n"
     ]
    },
    {
     "name": "stderr",
     "output_type": "stream",
     "text": [
      "C:\\Users\\paola\\AppData\\Local\\Temp\\ipykernel_31280\\2466950100.py:51: UserWarning: Column names longer than 10 characters will be truncated when saved to ESRI Shapefile.\n",
      "  grupo.to_file(ruta_archivo, driver='ESRI Shapefile')\n"
     ]
    },
    {
     "name": "stdout",
     "output_type": "stream",
     "text": [
      "Guardado: C:\\Users\\paola\\OneDrive\\4 Tracks de rutas de supervisión\\Shapefiles_Resultados\\95_2024-11-06 10_16_39.shp\n",
      "Procesando: C:\\Users\\paola\\OneDrive\\4 Tracks de rutas de supervisión\\Semana del 11 al 15 de noviembre\\SALIDAS A CAMPO SANTA CRUZ DEL 11 AL 15 DE NOVIEMBRE 2024..gpx\n"
     ]
    },
    {
     "name": "stderr",
     "output_type": "stream",
     "text": [
      "C:\\Users\\paola\\AppData\\Local\\Temp\\ipykernel_31280\\2466950100.py:51: UserWarning: Column names longer than 10 characters will be truncated when saved to ESRI Shapefile.\n",
      "  grupo.to_file(ruta_archivo, driver='ESRI Shapefile')\n"
     ]
    },
    {
     "name": "stdout",
     "output_type": "stream",
     "text": [
      "Guardado: C:\\Users\\paola\\OneDrive\\4 Tracks de rutas de supervisión\\Shapefiles_Resultados\\96_2024-11-14 14_27_53.shp\n",
      "Guardado: C:\\Users\\paola\\OneDrive\\4 Tracks de rutas de supervisión\\Shapefiles_Resultados\\97_2024-11-15 08_20_36.shp\n"
     ]
    },
    {
     "name": "stderr",
     "output_type": "stream",
     "text": [
      "C:\\Users\\paola\\AppData\\Local\\Temp\\ipykernel_31280\\2466950100.py:51: UserWarning: Column names longer than 10 characters will be truncated when saved to ESRI Shapefile.\n",
      "  grupo.to_file(ruta_archivo, driver='ESRI Shapefile')\n",
      "C:\\Users\\paola\\AppData\\Local\\Temp\\ipykernel_31280\\2466950100.py:51: UserWarning: Column names longer than 10 characters will be truncated when saved to ESRI Shapefile.\n",
      "  grupo.to_file(ruta_archivo, driver='ESRI Shapefile')\n"
     ]
    },
    {
     "name": "stdout",
     "output_type": "stream",
     "text": [
      "Guardado: C:\\Users\\paola\\OneDrive\\4 Tracks de rutas de supervisión\\Shapefiles_Resultados\\98_2024-11-15 13_33_25.shp\n"
     ]
    },
    {
     "name": "stderr",
     "output_type": "stream",
     "text": [
      "C:\\Users\\paola\\AppData\\Local\\Temp\\ipykernel_31280\\2466950100.py:51: UserWarning: Column names longer than 10 characters will be truncated when saved to ESRI Shapefile.\n",
      "  grupo.to_file(ruta_archivo, driver='ESRI Shapefile')\n"
     ]
    },
    {
     "name": "stdout",
     "output_type": "stream",
     "text": [
      "Guardado: C:\\Users\\paola\\OneDrive\\4 Tracks de rutas de supervisión\\Shapefiles_Resultados\\99_2024-11-15 17_05_53.shp\n",
      "Procesando: C:\\Users\\paola\\OneDrive\\4 Tracks de rutas de supervisión\\Semana del 12 al 16 de agosto de 2024\\ELROBLITO_VHAM_16082024.gpx\n",
      "Guardado: C:\\Users\\paola\\OneDrive\\4 Tracks de rutas de supervisión\\Shapefiles_Resultados\\100_CANAL NER_06.shp\n",
      "Guardado: C:\\Users\\paola\\OneDrive\\4 Tracks de rutas de supervisión\\Shapefiles_Resultados\\101_EL ROBLITO R 16082024.shp\n",
      "Guardado: C:\\Users\\paola\\OneDrive\\4 Tracks de rutas de supervisión\\Shapefiles_Resultados\\102_EL ROBLITO S 16082024.shp\n",
      "Procesando: C:\\Users\\paola\\OneDrive\\4 Tracks de rutas de supervisión\\Semana del 12 al 16 de agosto de 2024\\El_Roblito_AAR_13_08_2024 10_49_25 a. m..gpx\n",
      "Guardado: C:\\Users\\paola\\OneDrive\\4 Tracks de rutas de supervisión\\Shapefiles_Resultados\\103_13_08_2024 10_49_25 a. m..shp\n",
      "Procesando: C:\\Users\\paola\\OneDrive\\4 Tracks de rutas de supervisión\\Semana del 12 al 16 de agosto de 2024\\El_Roblito_AAR_HAM_13_08_2024 04_55_11 a. m..gpx\n",
      "Guardado: C:\\Users\\paola\\OneDrive\\4 Tracks de rutas de supervisión\\Shapefiles_Resultados\\104_13_08_2024 04_55_11 a. m..shp\n",
      "Procesando: C:\\Users\\paola\\OneDrive\\4 Tracks de rutas de supervisión\\Semana del 12 al 16 de agosto de 2024\\El_Roblito_AAR_HAM_13_08_2024 10_49_25 a. m..gpx\n"
     ]
    },
    {
     "name": "stderr",
     "output_type": "stream",
     "text": [
      "C:\\Users\\paola\\AppData\\Local\\Temp\\ipykernel_31280\\2466950100.py:51: UserWarning: Column names longer than 10 characters will be truncated when saved to ESRI Shapefile.\n",
      "  grupo.to_file(ruta_archivo, driver='ESRI Shapefile')\n",
      "C:\\Users\\paola\\AppData\\Local\\Temp\\ipykernel_31280\\2466950100.py:51: UserWarning: Column names longer than 10 characters will be truncated when saved to ESRI Shapefile.\n",
      "  grupo.to_file(ruta_archivo, driver='ESRI Shapefile')\n",
      "C:\\Users\\paola\\AppData\\Local\\Temp\\ipykernel_31280\\2466950100.py:51: UserWarning: Column names longer than 10 characters will be truncated when saved to ESRI Shapefile.\n",
      "  grupo.to_file(ruta_archivo, driver='ESRI Shapefile')\n",
      "C:\\Users\\paola\\AppData\\Local\\Temp\\ipykernel_31280\\2466950100.py:51: UserWarning: Column names longer than 10 characters will be truncated when saved to ESRI Shapefile.\n",
      "  grupo.to_file(ruta_archivo, driver='ESRI Shapefile')\n",
      "C:\\Users\\paola\\AppData\\Local\\Temp\\ipykernel_31280\\2466950100.py:51: UserWarning: Column names longer than 10 characters will be truncated when saved to ESRI Shapefile.\n",
      "  grupo.to_file(ruta_archivo, driver='ESRI Shapefile')\n",
      "C:\\Users\\paola\\AppData\\Local\\Temp\\ipykernel_31280\\2466950100.py:51: UserWarning: Column names longer than 10 characters will be truncated when saved to ESRI Shapefile.\n",
      "  grupo.to_file(ruta_archivo, driver='ESRI Shapefile')\n",
      "C:\\Users\\paola\\AppData\\Local\\Temp\\ipykernel_31280\\2466950100.py:51: UserWarning: Column names longer than 10 characters will be truncated when saved to ESRI Shapefile.\n",
      "  grupo.to_file(ruta_archivo, driver='ESRI Shapefile')\n",
      "C:\\Users\\paola\\AppData\\Local\\Temp\\ipykernel_31280\\2466950100.py:51: UserWarning: Column names longer than 10 characters will be truncated when saved to ESRI Shapefile.\n",
      "  grupo.to_file(ruta_archivo, driver='ESRI Shapefile')\n",
      "C:\\Users\\paola\\AppData\\Local\\Temp\\ipykernel_31280\\2466950100.py:51: UserWarning: Column names longer than 10 characters will be truncated when saved to ESRI Shapefile.\n",
      "  grupo.to_file(ruta_archivo, driver='ESRI Shapefile')\n"
     ]
    },
    {
     "name": "stdout",
     "output_type": "stream",
     "text": [
      "Guardado: C:\\Users\\paola\\OneDrive\\4 Tracks de rutas de supervisión\\Shapefiles_Resultados\\105_13_08_2024 10_49_25 a. m..shp\n",
      "Procesando: C:\\Users\\paola\\OneDrive\\4 Tracks de rutas de supervisión\\Semana del 12 al 16 de agosto de 2024\\NER_06_AAR_13_08_2024 07_31_40 a. m..gpx\n",
      "Guardado: C:\\Users\\paola\\OneDrive\\4 Tracks de rutas de supervisión\\Shapefiles_Resultados\\106_13_08_2024 07_31_40 a. m..shp\n",
      "Procesando: C:\\Users\\paola\\OneDrive\\4 Tracks de rutas de supervisión\\Semana del 12 al 16 de agosto de 2024\\NER_06_AAR_HMA_13_08_2024 07_31_40 a. m..gpx\n",
      "Guardado: C:\\Users\\paola\\OneDrive\\4 Tracks de rutas de supervisión\\Shapefiles_Resultados\\107_13_08_2024 07_31_40 a. m..shp\n",
      "Procesando: C:\\Users\\paola\\OneDrive\\4 Tracks de rutas de supervisión\\Semana del 12 al 16 de agosto de 2024\\NPH_40_AAR_JGC_16_08_2024 08_59_44 a. m..gpx\n",
      "Guardado: C:\\Users\\paola\\OneDrive\\4 Tracks de rutas de supervisión\\Shapefiles_Resultados\\108_16_08_2024 08_59_44 a. m..shp\n",
      "Procesando: C:\\Users\\paola\\OneDrive\\4 Tracks de rutas de supervisión\\Semana del 12 al 16 de agosto de 2024\\NPH_40_HAM_JGC_15_08_2024 09_14_48 a. m..gpx\n",
      "Guardado: C:\\Users\\paola\\OneDrive\\4 Tracks de rutas de supervisión\\Shapefiles_Resultados\\109_15_08_2024 09_14_48 a. m..shp\n",
      "Procesando: C:\\Users\\paola\\OneDrive\\4 Tracks de rutas de supervisión\\Semana del 12 al 16 de agosto de 2024\\NPH_41_HAM_JGC_14_08_2024 09_14_05 a. m..gpx\n",
      "Guardado: C:\\Users\\paola\\OneDrive\\4 Tracks de rutas de supervisión\\Shapefiles_Resultados\\110_14_08_2024 09_14_05 a. m..shp\n",
      "Procesando: C:\\Users\\paola\\OneDrive\\4 Tracks de rutas de supervisión\\Semana del 12 al 16 de agosto de 2024\\NPH_41_HAM_JGC_14_08_2024 09_18_53 a. m..gpx\n",
      "Guardado: C:\\Users\\paola\\OneDrive\\4 Tracks de rutas de supervisión\\Shapefiles_Resultados\\111_14_08_2024 09_18_53 a. m..shp\n",
      "Procesando: C:\\Users\\paola\\OneDrive\\4 Tracks de rutas de supervisión\\Semana del 12 al 16 de agosto de 2024\\PASOHONDO_WAJP_13082024.gpx\n",
      "Guardado: C:\\Users\\paola\\OneDrive\\4 Tracks de rutas de supervisión\\Shapefiles_Resultados\\112_EL MACHO R 13082024.shp\n",
      "Guardado: C:\\Users\\paola\\OneDrive\\4 Tracks de rutas de supervisión\\Shapefiles_Resultados\\113_EL MACHO S 13082024.shp\n",
      "Procesando: C:\\Users\\paola\\OneDrive\\4 Tracks de rutas de supervisión\\Semana del 12 al 16 de agosto de 2024\\Paso_Hondo_AAR_JGC_16_08_2024 05_18_48 a. m..gpx\n"
     ]
    },
    {
     "name": "stderr",
     "output_type": "stream",
     "text": [
      "C:\\Users\\paola\\AppData\\Local\\Temp\\ipykernel_31280\\2466950100.py:51: UserWarning: Column names longer than 10 characters will be truncated when saved to ESRI Shapefile.\n",
      "  grupo.to_file(ruta_archivo, driver='ESRI Shapefile')\n",
      "C:\\Users\\paola\\AppData\\Local\\Temp\\ipykernel_31280\\2466950100.py:51: UserWarning: Column names longer than 10 characters will be truncated when saved to ESRI Shapefile.\n",
      "  grupo.to_file(ruta_archivo, driver='ESRI Shapefile')\n",
      "C:\\Users\\paola\\AppData\\Local\\Temp\\ipykernel_31280\\2466950100.py:51: UserWarning: Column names longer than 10 characters will be truncated when saved to ESRI Shapefile.\n",
      "  grupo.to_file(ruta_archivo, driver='ESRI Shapefile')\n",
      "C:\\Users\\paola\\AppData\\Local\\Temp\\ipykernel_31280\\2466950100.py:51: UserWarning: Column names longer than 10 characters will be truncated when saved to ESRI Shapefile.\n",
      "  grupo.to_file(ruta_archivo, driver='ESRI Shapefile')\n",
      "C:\\Users\\paola\\AppData\\Local\\Temp\\ipykernel_31280\\2466950100.py:51: UserWarning: Column names longer than 10 characters will be truncated when saved to ESRI Shapefile.\n",
      "  grupo.to_file(ruta_archivo, driver='ESRI Shapefile')\n",
      "C:\\Users\\paola\\AppData\\Local\\Temp\\ipykernel_31280\\2466950100.py:51: UserWarning: Column names longer than 10 characters will be truncated when saved to ESRI Shapefile.\n",
      "  grupo.to_file(ruta_archivo, driver='ESRI Shapefile')\n",
      "C:\\Users\\paola\\AppData\\Local\\Temp\\ipykernel_31280\\2466950100.py:51: UserWarning: Column names longer than 10 characters will be truncated when saved to ESRI Shapefile.\n",
      "  grupo.to_file(ruta_archivo, driver='ESRI Shapefile')\n"
     ]
    },
    {
     "name": "stdout",
     "output_type": "stream",
     "text": [
      "Guardado: C:\\Users\\paola\\OneDrive\\4 Tracks de rutas de supervisión\\Shapefiles_Resultados\\114_16_08_2024 05_18_48 a. m..shp\n",
      "Procesando: C:\\Users\\paola\\OneDrive\\4 Tracks de rutas de supervisión\\Semana del 12 al 16 de agosto de 2024\\Paso_Hondo_AAR_JGC_16_08_2024 09_17_14 a. m..gpx\n",
      "Guardado: C:\\Users\\paola\\OneDrive\\4 Tracks de rutas de supervisión\\Shapefiles_Resultados\\115_16_08_2024 09_17_14 a. m..shp\n",
      "Procesando: C:\\Users\\paola\\OneDrive\\4 Tracks de rutas de supervisión\\Semana del 12 al 16 de agosto de 2024\\Paso_Hondo_HAM_JGC_14_08_2024 09_23_45 a. m..gpx\n",
      "Guardado: C:\\Users\\paola\\OneDrive\\4 Tracks de rutas de supervisión\\Shapefiles_Resultados\\116_14_08_2024 09_23_45 a. m..shp\n",
      "Procesando: C:\\Users\\paola\\OneDrive\\4 Tracks de rutas de supervisión\\Semana del 12 al 16 de agosto de 2024\\Paso_Hondo_HAM_JGC_15_08_2024 06_31_31 a. m..gpx\n",
      "Guardado: C:\\Users\\paola\\OneDrive\\4 Tracks de rutas de supervisión\\Shapefiles_Resultados\\117_15_08_2024 06_31_31 a. m..shp\n",
      "Procesando: C:\\Users\\paola\\OneDrive\\4 Tracks de rutas de supervisión\\Semana del 12 al 16 de agosto de 2024\\Paso_Hondo_HAM_JGC_15_08_2024 09_26_02 a. m..gpx\n"
     ]
    },
    {
     "name": "stderr",
     "output_type": "stream",
     "text": [
      "C:\\Users\\paola\\AppData\\Local\\Temp\\ipykernel_31280\\2466950100.py:51: UserWarning: Column names longer than 10 characters will be truncated when saved to ESRI Shapefile.\n",
      "  grupo.to_file(ruta_archivo, driver='ESRI Shapefile')\n",
      "C:\\Users\\paola\\AppData\\Local\\Temp\\ipykernel_31280\\2466950100.py:51: UserWarning: Column names longer than 10 characters will be truncated when saved to ESRI Shapefile.\n",
      "  grupo.to_file(ruta_archivo, driver='ESRI Shapefile')\n",
      "C:\\Users\\paola\\AppData\\Local\\Temp\\ipykernel_31280\\2466950100.py:51: UserWarning: Column names longer than 10 characters will be truncated when saved to ESRI Shapefile.\n",
      "  grupo.to_file(ruta_archivo, driver='ESRI Shapefile')\n",
      "C:\\Users\\paola\\AppData\\Local\\Temp\\ipykernel_31280\\2466950100.py:51: UserWarning: Column names longer than 10 characters will be truncated when saved to ESRI Shapefile.\n",
      "  grupo.to_file(ruta_archivo, driver='ESRI Shapefile')\n",
      "C:\\Users\\paola\\AppData\\Local\\Temp\\ipykernel_31280\\2466950100.py:51: UserWarning: Column names longer than 10 characters will be truncated when saved to ESRI Shapefile.\n",
      "  grupo.to_file(ruta_archivo, driver='ESRI Shapefile')\n"
     ]
    },
    {
     "name": "stdout",
     "output_type": "stream",
     "text": [
      "Guardado: C:\\Users\\paola\\OneDrive\\4 Tracks de rutas de supervisión\\Shapefiles_Resultados\\118_15_08_2024 09_26_02 a. m..shp\n",
      "Procesando: C:\\Users\\paola\\OneDrive\\4 Tracks de rutas de supervisión\\Semana del 15 al 19 de julio de 2024\\EL ROBLITO RAAR 19072024 (retorno).gpx\n",
      "Guardado: C:\\Users\\paola\\OneDrive\\4 Tracks de rutas de supervisión\\Shapefiles_Resultados\\119_19_07_2024 05_06_39 a. m..shp\n",
      "Procesando: C:\\Users\\paola\\OneDrive\\4 Tracks de rutas de supervisión\\Semana del 15 al 19 de julio de 2024\\EL ROBLITO RAAR 19072024 (salida) (1).gpx\n",
      "Guardado: C:\\Users\\paola\\OneDrive\\4 Tracks de rutas de supervisión\\Shapefiles_Resultados\\120_19_07_2024 05_06_39 a. m..shp\n",
      "Procesando: C:\\Users\\paola\\OneDrive\\4 Tracks de rutas de supervisión\\Semana del 15 al 19 de julio de 2024\\EL ROBLITO WAJP 17 07 2024 (1).gpx\n",
      "Guardado: C:\\Users\\paola\\OneDrive\\4 Tracks de rutas de supervisión\\Shapefiles_Resultados\\121_EL ROBLITO_WAJP_17072024.shp\n",
      "Guardado: C:\\Users\\paola\\OneDrive\\4 Tracks de rutas de supervisión\\Shapefiles_Resultados\\122_EL_ROBLITO_WAJP_17072024.shp\n",
      "Procesando: C:\\Users\\paola\\OneDrive\\4 Tracks de rutas de supervisión\\Semana del 15 al 19 de julio de 2024\\El_Roblito_RAAR_JGC_19_07_2024 05_06_39 a. m. (1).gpx\n"
     ]
    },
    {
     "name": "stderr",
     "output_type": "stream",
     "text": [
      "C:\\Users\\paola\\AppData\\Local\\Temp\\ipykernel_31280\\2466950100.py:51: UserWarning: Column names longer than 10 characters will be truncated when saved to ESRI Shapefile.\n",
      "  grupo.to_file(ruta_archivo, driver='ESRI Shapefile')\n",
      "C:\\Users\\paola\\AppData\\Local\\Temp\\ipykernel_31280\\2466950100.py:51: UserWarning: Column names longer than 10 characters will be truncated when saved to ESRI Shapefile.\n",
      "  grupo.to_file(ruta_archivo, driver='ESRI Shapefile')\n",
      "C:\\Users\\paola\\AppData\\Local\\Temp\\ipykernel_31280\\2466950100.py:51: UserWarning: Column names longer than 10 characters will be truncated when saved to ESRI Shapefile.\n",
      "  grupo.to_file(ruta_archivo, driver='ESRI Shapefile')\n",
      "C:\\Users\\paola\\AppData\\Local\\Temp\\ipykernel_31280\\2466950100.py:51: UserWarning: Column names longer than 10 characters will be truncated when saved to ESRI Shapefile.\n",
      "  grupo.to_file(ruta_archivo, driver='ESRI Shapefile')\n",
      "C:\\Users\\paola\\AppData\\Local\\Temp\\ipykernel_31280\\2466950100.py:51: UserWarning: Column names longer than 10 characters will be truncated when saved to ESRI Shapefile.\n",
      "  grupo.to_file(ruta_archivo, driver='ESRI Shapefile')\n"
     ]
    },
    {
     "name": "stdout",
     "output_type": "stream",
     "text": [
      "Guardado: C:\\Users\\paola\\OneDrive\\4 Tracks de rutas de supervisión\\Shapefiles_Resultados\\123_19_07_2024 05_06_39 a. m..shp\n",
      "Procesando: C:\\Users\\paola\\OneDrive\\4 Tracks de rutas de supervisión\\Semana del 15 al 19 de julio de 2024\\El_Roblito_RAAR_JGC_19_07_2024 09_44_19 a. m. (1).gpx\n",
      "Guardado: C:\\Users\\paola\\OneDrive\\4 Tracks de rutas de supervisión\\Shapefiles_Resultados\\124_19_07_2024 09_44_19 a. m..shp\n",
      "Procesando: C:\\Users\\paola\\OneDrive\\4 Tracks de rutas de supervisión\\Semana del 15 al 19 de julio de 2024\\SAN ANDRES RAAR 17072024 (1).gpx\n",
      "Guardado: C:\\Users\\paola\\OneDrive\\4 Tracks de rutas de supervisión\\Shapefiles_Resultados\\125_San_Andres_AAR_16_07_2024 07_06_09 a. m..shp\n",
      "Guardado: C:\\Users\\paola\\OneDrive\\4 Tracks de rutas de supervisión\\Shapefiles_Resultados\\126_San_Andres_AAR_16_07_2024 09_39_03 a. m..shp\n",
      "Procesando: C:\\Users\\paola\\OneDrive\\4 Tracks de rutas de supervisión\\Semana del 15 al 19 de julio de 2024\\SAN ANDRES WAJP 19072024 (1).gpx\n"
     ]
    },
    {
     "name": "stderr",
     "output_type": "stream",
     "text": [
      "C:\\Users\\paola\\AppData\\Local\\Temp\\ipykernel_31280\\2466950100.py:51: UserWarning: Column names longer than 10 characters will be truncated when saved to ESRI Shapefile.\n",
      "  grupo.to_file(ruta_archivo, driver='ESRI Shapefile')\n",
      "C:\\Users\\paola\\AppData\\Local\\Temp\\ipykernel_31280\\2466950100.py:51: UserWarning: Column names longer than 10 characters will be truncated when saved to ESRI Shapefile.\n",
      "  grupo.to_file(ruta_archivo, driver='ESRI Shapefile')\n",
      "C:\\Users\\paola\\AppData\\Local\\Temp\\ipykernel_31280\\2466950100.py:51: UserWarning: Column names longer than 10 characters will be truncated when saved to ESRI Shapefile.\n",
      "  grupo.to_file(ruta_archivo, driver='ESRI Shapefile')\n"
     ]
    },
    {
     "name": "stdout",
     "output_type": "stream",
     "text": [
      "Guardado: C:\\Users\\paola\\OneDrive\\4 Tracks de rutas de supervisión\\Shapefiles_Resultados\\127_SAN ANDRES WAJP 19072024.shp\n",
      "Guardado: C:\\Users\\paola\\OneDrive\\4 Tracks de rutas de supervisión\\Shapefiles_Resultados\\128_SAN ANDRES_WAJP_19072024.shp\n",
      "Guardado: C:\\Users\\paola\\OneDrive\\4 Tracks de rutas de supervisión\\Shapefiles_Resultados\\129_SAN_ANDRES WAJP_19072024.shp\n",
      "Procesando: C:\\Users\\paola\\OneDrive\\4 Tracks de rutas de supervisión\\Semana del 15 al 19 de julio de 2024\\Santa_Cruz_MGPR_HAM_19_07_2024 03_52_20 a. m. (1).gpx\n",
      "Guardado: C:\\Users\\paola\\OneDrive\\4 Tracks de rutas de supervisión\\Shapefiles_Resultados\\130_19_07_2024 03_52_20 a. m..shp\n"
     ]
    },
    {
     "name": "stderr",
     "output_type": "stream",
     "text": [
      "C:\\Users\\paola\\AppData\\Local\\Temp\\ipykernel_31280\\2466950100.py:51: UserWarning: Column names longer than 10 characters will be truncated when saved to ESRI Shapefile.\n",
      "  grupo.to_file(ruta_archivo, driver='ESRI Shapefile')\n",
      "C:\\Users\\paola\\AppData\\Local\\Temp\\ipykernel_31280\\2466950100.py:51: UserWarning: Column names longer than 10 characters will be truncated when saved to ESRI Shapefile.\n",
      "  grupo.to_file(ruta_archivo, driver='ESRI Shapefile')\n",
      "C:\\Users\\paola\\AppData\\Local\\Temp\\ipykernel_31280\\2466950100.py:51: UserWarning: Column names longer than 10 characters will be truncated when saved to ESRI Shapefile.\n",
      "  grupo.to_file(ruta_archivo, driver='ESRI Shapefile')\n"
     ]
    },
    {
     "name": "stdout",
     "output_type": "stream",
     "text": [
      "Guardado: C:\\Users\\paola\\OneDrive\\4 Tracks de rutas de supervisión\\Shapefiles_Resultados\\131_19_07_2024 11_42_48 a. m..shp\n",
      "Procesando: C:\\Users\\paola\\OneDrive\\4 Tracks de rutas de supervisión\\Semana del 15 al 19 de julio de 2024\\Santa_Cruz_MGPR_HAM_WJP_19_07_2024 11_42_48 a. m. (1).gpx\n",
      "Guardado: C:\\Users\\paola\\OneDrive\\4 Tracks de rutas de supervisión\\Shapefiles_Resultados\\132_19_07_2024 11_42_48 a. m..shp\n",
      "Procesando: C:\\Users\\paola\\OneDrive\\4 Tracks de rutas de supervisión\\Semana del 15 al 19 de julio de 2024\\San_Andres_RAAR_16_07_2024 07_06_09 a. m. (1).gpx\n",
      "Guardado: C:\\Users\\paola\\OneDrive\\4 Tracks de rutas de supervisión\\Shapefiles_Resultados\\133_San_Andres_AAR_16_07_2024 07_06_09 a. m..shp\n",
      "Procesando: C:\\Users\\paola\\OneDrive\\4 Tracks de rutas de supervisión\\Semana del 17-21 de junio de 2024\\C_I_P_H_EL_MACHO_GMR_VHAM_19062024.gpx\n"
     ]
    },
    {
     "name": "stderr",
     "output_type": "stream",
     "text": [
      "C:\\Users\\paola\\AppData\\Local\\Temp\\ipykernel_31280\\2466950100.py:51: UserWarning: Column names longer than 10 characters will be truncated when saved to ESRI Shapefile.\n",
      "  grupo.to_file(ruta_archivo, driver='ESRI Shapefile')\n",
      "C:\\Users\\paola\\AppData\\Local\\Temp\\ipykernel_31280\\2466950100.py:51: UserWarning: Column names longer than 10 characters will be truncated when saved to ESRI Shapefile.\n",
      "  grupo.to_file(ruta_archivo, driver='ESRI Shapefile')\n",
      "C:\\Users\\paola\\AppData\\Local\\Temp\\ipykernel_31280\\2466950100.py:51: UserWarning: Column names longer than 10 characters will be truncated when saved to ESRI Shapefile.\n",
      "  grupo.to_file(ruta_archivo, driver='ESRI Shapefile')\n"
     ]
    },
    {
     "name": "stdout",
     "output_type": "stream",
     "text": [
      "Guardado: C:\\Users\\paola\\OneDrive\\4 Tracks de rutas de supervisión\\Shapefiles_Resultados\\134_C_I_P_H_EL_MACHO_GMR_VHAM_19062024.shp\n",
      "Procesando: C:\\Users\\paola\\OneDrive\\4 Tracks de rutas de supervisión\\Semana del 17-21 de junio de 2024\\C_I_P_H_EL_MACHO_GMR_VHAM_1906_2024.gpx\n",
      "Guardado: C:\\Users\\paola\\OneDrive\\4 Tracks de rutas de supervisión\\Shapefiles_Resultados\\135_C_I_P_H_EL_MACHO_GMR_VHAM_1906_2024.shp\n",
      "Procesando: C:\\Users\\paola\\OneDrive\\4 Tracks de rutas de supervisión\\Semana del 17-21 de junio de 2024\\ELROBLITO-RAAR-20062024.gpx\n"
     ]
    },
    {
     "name": "stderr",
     "output_type": "stream",
     "text": [
      "C:\\Users\\paola\\AppData\\Local\\Temp\\ipykernel_31280\\2466950100.py:51: UserWarning: Column names longer than 10 characters will be truncated when saved to ESRI Shapefile.\n",
      "  grupo.to_file(ruta_archivo, driver='ESRI Shapefile')\n",
      "C:\\Users\\paola\\AppData\\Local\\Temp\\ipykernel_31280\\2466950100.py:51: UserWarning: Column names longer than 10 characters will be truncated when saved to ESRI Shapefile.\n",
      "  grupo.to_file(ruta_archivo, driver='ESRI Shapefile')\n",
      "C:\\Users\\paola\\AppData\\Local\\Temp\\ipykernel_31280\\2466950100.py:51: UserWarning: Column names longer than 10 characters will be truncated when saved to ESRI Shapefile.\n",
      "  grupo.to_file(ruta_archivo, driver='ESRI Shapefile')\n",
      "C:\\Users\\paola\\AppData\\Local\\Temp\\ipykernel_31280\\2466950100.py:51: UserWarning: Column names longer than 10 characters will be truncated when saved to ESRI Shapefile.\n",
      "  grupo.to_file(ruta_archivo, driver='ESRI Shapefile')\n"
     ]
    },
    {
     "name": "stdout",
     "output_type": "stream",
     "text": [
      "Guardado: C:\\Users\\paola\\OneDrive\\4 Tracks de rutas de supervisión\\Shapefiles_Resultados\\136_NER_08 20062024.shp\n",
      "Guardado: C:\\Users\\paola\\OneDrive\\4 Tracks de rutas de supervisión\\Shapefiles_Resultados\\137_ROBLITO R RAAR 20062024.shp\n",
      "Guardado: C:\\Users\\paola\\OneDrive\\4 Tracks de rutas de supervisión\\Shapefiles_Resultados\\138_ROBLITO S RAAR 20062024.shp\n",
      "Procesando: C:\\Users\\paola\\OneDrive\\4 Tracks de rutas de supervisión\\Semana del 17-21 de junio de 2024\\ElRoblito_GMM_VHAM_18_06_2024 05_06_00 a. m..gpx\n",
      "Guardado: C:\\Users\\paola\\OneDrive\\4 Tracks de rutas de supervisión\\Shapefiles_Resultados\\139_18_06_2024 05_06_00 a. m..shp\n",
      "Procesando: C:\\Users\\paola\\OneDrive\\4 Tracks de rutas de supervisión\\Semana del 17-21 de junio de 2024\\El_Roblito_GMM_VHAM_18_06_2024 08_09_02 a. m..gpx\n",
      "Guardado: C:\\Users\\paola\\OneDrive\\4 Tracks de rutas de supervisión\\Shapefiles_Resultados\\140_18_06_2024 08_09_02 a. m..shp\n",
      "Procesando: C:\\Users\\paola\\OneDrive\\4 Tracks de rutas de supervisión\\Semana del 17-21 de junio de 2024\\NER_08_18_06_2024 07_01_02 a. m..gpx\n"
     ]
    },
    {
     "name": "stderr",
     "output_type": "stream",
     "text": [
      "C:\\Users\\paola\\AppData\\Local\\Temp\\ipykernel_31280\\2466950100.py:51: UserWarning: Column names longer than 10 characters will be truncated when saved to ESRI Shapefile.\n",
      "  grupo.to_file(ruta_archivo, driver='ESRI Shapefile')\n",
      "C:\\Users\\paola\\AppData\\Local\\Temp\\ipykernel_31280\\2466950100.py:51: UserWarning: Column names longer than 10 characters will be truncated when saved to ESRI Shapefile.\n",
      "  grupo.to_file(ruta_archivo, driver='ESRI Shapefile')\n",
      "C:\\Users\\paola\\AppData\\Local\\Temp\\ipykernel_31280\\2466950100.py:51: UserWarning: Column names longer than 10 characters will be truncated when saved to ESRI Shapefile.\n",
      "  grupo.to_file(ruta_archivo, driver='ESRI Shapefile')\n"
     ]
    },
    {
     "name": "stdout",
     "output_type": "stream",
     "text": [
      "Guardado: C:\\Users\\paola\\OneDrive\\4 Tracks de rutas de supervisión\\Shapefiles_Resultados\\141_18_06_2024 07_01_02 a. m..shp\n",
      "Procesando: C:\\Users\\paola\\OneDrive\\4 Tracks de rutas de supervisión\\Semana del 17-21 de junio de 2024\\SAN ANDRES_WAJP_18062024 (2).gpx\n",
      "Guardado: C:\\Users\\paola\\OneDrive\\4 Tracks de rutas de supervisión\\Shapefiles_Resultados\\142_NSA 20.shp\n",
      "Guardado: C:\\Users\\paola\\OneDrive\\4 Tracks de rutas de supervisión\\Shapefiles_Resultados\\143_SAN ANDRES R  WAJP 18062024.shp\n",
      "Guardado: C:\\Users\\paola\\OneDrive\\4 Tracks de rutas de supervisión\\Shapefiles_Resultados\\144_SAN ANDRES S  WAJP 18062024.shp\n",
      "Procesando: C:\\Users\\paola\\OneDrive\\4 Tracks de rutas de supervisión\\Semana del 17-21 de junio de 2024\\SAN ANDRES_WAJP_20062024.gpx\n"
     ]
    },
    {
     "name": "stderr",
     "output_type": "stream",
     "text": [
      "C:\\Users\\paola\\AppData\\Local\\Temp\\ipykernel_31280\\2466950100.py:51: UserWarning: Column names longer than 10 characters will be truncated when saved to ESRI Shapefile.\n",
      "  grupo.to_file(ruta_archivo, driver='ESRI Shapefile')\n",
      "C:\\Users\\paola\\AppData\\Local\\Temp\\ipykernel_31280\\2466950100.py:51: UserWarning: Column names longer than 10 characters will be truncated when saved to ESRI Shapefile.\n",
      "  grupo.to_file(ruta_archivo, driver='ESRI Shapefile')\n",
      "C:\\Users\\paola\\AppData\\Local\\Temp\\ipykernel_31280\\2466950100.py:51: UserWarning: Column names longer than 10 characters will be truncated when saved to ESRI Shapefile.\n",
      "  grupo.to_file(ruta_archivo, driver='ESRI Shapefile')\n",
      "C:\\Users\\paola\\AppData\\Local\\Temp\\ipykernel_31280\\2466950100.py:51: UserWarning: Column names longer than 10 characters will be truncated when saved to ESRI Shapefile.\n",
      "  grupo.to_file(ruta_archivo, driver='ESRI Shapefile')\n",
      "C:\\Users\\paola\\AppData\\Local\\Temp\\ipykernel_31280\\2466950100.py:51: UserWarning: Column names longer than 10 characters will be truncated when saved to ESRI Shapefile.\n",
      "  grupo.to_file(ruta_archivo, driver='ESRI Shapefile')\n"
     ]
    },
    {
     "name": "stdout",
     "output_type": "stream",
     "text": [
      "Guardado: C:\\Users\\paola\\OneDrive\\4 Tracks de rutas de supervisión\\Shapefiles_Resultados\\145_NSA-20 20062024.shp\n",
      "Guardado: C:\\Users\\paola\\OneDrive\\4 Tracks de rutas de supervisión\\Shapefiles_Resultados\\146_SAN ANDRES R 20062024.shp\n",
      "Guardado: C:\\Users\\paola\\OneDrive\\4 Tracks de rutas de supervisión\\Shapefiles_Resultados\\147_SAN ANDRES S 20062024.shp\n",
      "Procesando: C:\\Users\\paola\\OneDrive\\4 Tracks de rutas de supervisión\\Semana del 17-21 de junio de 2024\\SAN ANDRES_WAJP_21062024.gpx\n",
      "Guardado: C:\\Users\\paola\\OneDrive\\4 Tracks de rutas de supervisión\\Shapefiles_Resultados\\148_NSA-20 21062024.shp\n",
      "Guardado: C:\\Users\\paola\\OneDrive\\4 Tracks de rutas de supervisión\\Shapefiles_Resultados\\149_SAN ANDRES R 21062024.shp\n"
     ]
    },
    {
     "name": "stderr",
     "output_type": "stream",
     "text": [
      "C:\\Users\\paola\\AppData\\Local\\Temp\\ipykernel_31280\\2466950100.py:51: UserWarning: Column names longer than 10 characters will be truncated when saved to ESRI Shapefile.\n",
      "  grupo.to_file(ruta_archivo, driver='ESRI Shapefile')\n",
      "C:\\Users\\paola\\AppData\\Local\\Temp\\ipykernel_31280\\2466950100.py:51: UserWarning: Column names longer than 10 characters will be truncated when saved to ESRI Shapefile.\n",
      "  grupo.to_file(ruta_archivo, driver='ESRI Shapefile')\n",
      "C:\\Users\\paola\\AppData\\Local\\Temp\\ipykernel_31280\\2466950100.py:51: UserWarning: Column names longer than 10 characters will be truncated when saved to ESRI Shapefile.\n",
      "  grupo.to_file(ruta_archivo, driver='ESRI Shapefile')\n",
      "C:\\Users\\paola\\AppData\\Local\\Temp\\ipykernel_31280\\2466950100.py:51: UserWarning: Column names longer than 10 characters will be truncated when saved to ESRI Shapefile.\n",
      "  grupo.to_file(ruta_archivo, driver='ESRI Shapefile')\n"
     ]
    },
    {
     "name": "stdout",
     "output_type": "stream",
     "text": [
      "Guardado: C:\\Users\\paola\\OneDrive\\4 Tracks de rutas de supervisión\\Shapefiles_Resultados\\150_SAN ANDRES S 21062024.shp\n",
      "Procesando: C:\\Users\\paola\\OneDrive\\4 Tracks de rutas de supervisión\\Semana del 17-21 de junio de 2024\\SANANDRES _WAJP_18062024.gpx\n",
      "Guardado: C:\\Users\\paola\\OneDrive\\4 Tracks de rutas de supervisión\\Shapefiles_Resultados\\151_SAN ANDRES S  WAJP 18062024.shp\n",
      "Procesando: C:\\Users\\paola\\OneDrive\\4 Tracks de rutas de supervisión\\Semana del 17-21 de junio de 2024\\SAN_ANDRES_WAJP_18062024.gpx\n",
      "Guardado: C:\\Users\\paola\\OneDrive\\4 Tracks de rutas de supervisión\\Shapefiles_Resultados\\152_SAN ANDRES R  WAJP 18062024.shp\n",
      "Procesando: C:\\Users\\paola\\OneDrive\\4 Tracks de rutas de supervisión\\Semana del 17-21 de junio de 2024\\STA CRUZ_GMR_MGPR_WAJP_20062024.gpx\n"
     ]
    },
    {
     "name": "stderr",
     "output_type": "stream",
     "text": [
      "C:\\Users\\paola\\AppData\\Local\\Temp\\ipykernel_31280\\2466950100.py:51: UserWarning: Column names longer than 10 characters will be truncated when saved to ESRI Shapefile.\n",
      "  grupo.to_file(ruta_archivo, driver='ESRI Shapefile')\n",
      "C:\\Users\\paola\\AppData\\Local\\Temp\\ipykernel_31280\\2466950100.py:51: UserWarning: Column names longer than 10 characters will be truncated when saved to ESRI Shapefile.\n",
      "  grupo.to_file(ruta_archivo, driver='ESRI Shapefile')\n",
      "C:\\Users\\paola\\AppData\\Local\\Temp\\ipykernel_31280\\2466950100.py:51: UserWarning: Column names longer than 10 characters will be truncated when saved to ESRI Shapefile.\n",
      "  grupo.to_file(ruta_archivo, driver='ESRI Shapefile')\n",
      "C:\\Users\\paola\\AppData\\Local\\Temp\\ipykernel_31280\\2466950100.py:51: UserWarning: Column names longer than 10 characters will be truncated when saved to ESRI Shapefile.\n",
      "  grupo.to_file(ruta_archivo, driver='ESRI Shapefile')\n",
      "C:\\Users\\paola\\AppData\\Local\\Temp\\ipykernel_31280\\2466950100.py:51: UserWarning: Column names longer than 10 characters will be truncated when saved to ESRI Shapefile.\n",
      "  grupo.to_file(ruta_archivo, driver='ESRI Shapefile')\n"
     ]
    },
    {
     "name": "stdout",
     "output_type": "stream",
     "text": [
      "Guardado: C:\\Users\\paola\\OneDrive\\4 Tracks de rutas de supervisión\\Shapefiles_Resultados\\153_STA CRUZ_GMR_MGPR_WAJP_20062024.shp\n",
      "Procesando: C:\\Users\\paola\\OneDrive\\4 Tracks de rutas de supervisión\\Semana del 17-21 de junio de 2024\\STA CRUZ_GMR_MGPR_WAJP_21062024.gpx\n",
      "Guardado: C:\\Users\\paola\\OneDrive\\4 Tracks de rutas de supervisión\\Shapefiles_Resultados\\154_STA CRUZ_GMR_MGPR_WAJP_21062024.shp\n",
      "Procesando: C:\\Users\\paola\\OneDrive\\4 Tracks de rutas de supervisión\\Semana del 17-21 de junio de 2024\\STA _C_PUERTA_DE_PALAPARES_MGPR_RAAR_18062024.gpx\n",
      "Guardado: C:\\Users\\paola\\OneDrive\\4 Tracks de rutas de supervisión\\Shapefiles_Resultados\\155_SANTA CRUZ PUERTADE PALAPARES MGPR 18062024.shp\n",
      "Procesando: C:\\Users\\paola\\OneDrive\\4 Tracks de rutas de supervisión\\Semana del 17-21 de junio de 2024\\STAC_PUERTA_DE_PALAPARES_MGPR_RAAR_18062024.gpx\n"
     ]
    },
    {
     "name": "stderr",
     "output_type": "stream",
     "text": [
      "C:\\Users\\paola\\AppData\\Local\\Temp\\ipykernel_31280\\2466950100.py:51: UserWarning: Column names longer than 10 characters will be truncated when saved to ESRI Shapefile.\n",
      "  grupo.to_file(ruta_archivo, driver='ESRI Shapefile')\n",
      "C:\\Users\\paola\\AppData\\Local\\Temp\\ipykernel_31280\\2466950100.py:51: UserWarning: Column names longer than 10 characters will be truncated when saved to ESRI Shapefile.\n",
      "  grupo.to_file(ruta_archivo, driver='ESRI Shapefile')\n"
     ]
    },
    {
     "name": "stdout",
     "output_type": "stream",
     "text": [
      "Guardado: C:\\Users\\paola\\OneDrive\\4 Tracks de rutas de supervisión\\Shapefiles_Resultados\\156_SANTA CRUZ PUERTA DE PALAPARES MGPR 18062024.shp\n",
      "Procesando: C:\\Users\\paola\\OneDrive\\4 Tracks de rutas de supervisión\\Semana del 17-21 de junio de 2024\\STA_ CRUZ_GMR_MGPR_WAJP_2006_2024.gpx\n",
      "Guardado: C:\\Users\\paola\\OneDrive\\4 Tracks de rutas de supervisión\\Shapefiles_Resultados\\157_STA_ CRUZ_GMR_MGPR_WAJP_2006_2024.shp\n",
      "Procesando: C:\\Users\\paola\\OneDrive\\4 Tracks de rutas de supervisión\\Semana del 17-21 de junio de 2024\\STA_CRUZ_GMR_MGPR_WAJP_20-062024.gpx\n"
     ]
    },
    {
     "name": "stderr",
     "output_type": "stream",
     "text": [
      "C:\\Users\\paola\\AppData\\Local\\Temp\\ipykernel_31280\\2466950100.py:51: UserWarning: Column names longer than 10 characters will be truncated when saved to ESRI Shapefile.\n",
      "  grupo.to_file(ruta_archivo, driver='ESRI Shapefile')\n",
      "C:\\Users\\paola\\AppData\\Local\\Temp\\ipykernel_31280\\2466950100.py:51: UserWarning: Column names longer than 10 characters will be truncated when saved to ESRI Shapefile.\n",
      "  grupo.to_file(ruta_archivo, driver='ESRI Shapefile')\n",
      "C:\\Users\\paola\\AppData\\Local\\Temp\\ipykernel_31280\\2466950100.py:51: UserWarning: Column names longer than 10 characters will be truncated when saved to ESRI Shapefile.\n",
      "  grupo.to_file(ruta_archivo, driver='ESRI Shapefile')\n"
     ]
    },
    {
     "name": "stdout",
     "output_type": "stream",
     "text": [
      "Guardado: C:\\Users\\paola\\OneDrive\\4 Tracks de rutas de supervisión\\Shapefiles_Resultados\\158_STA_CRUZ_GMR_MGPR_WAJP_20-062024.shp\n",
      "Procesando: C:\\Users\\paola\\OneDrive\\4 Tracks de rutas de supervisión\\Semana del 17-21 de junio de 2024\\STA_CRUZ_GMR_MGPR_WAJP_20062024.gpx\n",
      "Guardado: C:\\Users\\paola\\OneDrive\\4 Tracks de rutas de supervisión\\Shapefiles_Resultados\\159_STA_CRUZ_GMR_MGPR_WAJP_20062024.shp\n",
      "Procesando: C:\\Users\\paola\\OneDrive\\4 Tracks de rutas de supervisión\\Semana del 17-21 de junio de 2024\\STA_CRUZ_GMR_MGPR_WAJP_21062024.gpx\n",
      "Guardado: C:\\Users\\paola\\OneDrive\\4 Tracks de rutas de supervisión\\Shapefiles_Resultados\\160_STA_CRUZ_GMR_MGPR_WAJP_21062024.shp\n",
      "Procesando: C:\\Users\\paola\\OneDrive\\4 Tracks de rutas de supervisión\\Semana del 17-21 de junio de 2024\\STA_CRUZ_GMR_MGPR_WAJP_2106_2024.gpx\n"
     ]
    },
    {
     "name": "stderr",
     "output_type": "stream",
     "text": [
      "C:\\Users\\paola\\AppData\\Local\\Temp\\ipykernel_31280\\2466950100.py:51: UserWarning: Column names longer than 10 characters will be truncated when saved to ESRI Shapefile.\n",
      "  grupo.to_file(ruta_archivo, driver='ESRI Shapefile')\n",
      "C:\\Users\\paola\\AppData\\Local\\Temp\\ipykernel_31280\\2466950100.py:51: UserWarning: Column names longer than 10 characters will be truncated when saved to ESRI Shapefile.\n",
      "  grupo.to_file(ruta_archivo, driver='ESRI Shapefile')\n"
     ]
    },
    {
     "name": "stdout",
     "output_type": "stream",
     "text": [
      "Guardado: C:\\Users\\paola\\OneDrive\\4 Tracks de rutas de supervisión\\Shapefiles_Resultados\\161_STA_CRUZ_GMR_MGPR_WAJP_2106_2024.shp\n",
      "Procesando: C:\\Users\\paola\\OneDrive\\4 Tracks de rutas de supervisión\\Semana del 22 al 26 de julio de 2024\\El_Roblito_GMM_R_26_07_2024 07_42_06 a. m..gpx\n",
      "Guardado: C:\\Users\\paola\\OneDrive\\4 Tracks de rutas de supervisión\\Shapefiles_Resultados\\162_26_07_2024 07_42_06 a. m..shp\n",
      "Procesando: C:\\Users\\paola\\OneDrive\\4 Tracks de rutas de supervisión\\Semana del 22 al 26 de julio de 2024\\El_Roblito_GMM_S_26_07_2024 05_25_19 a. m..gpx\n",
      "Guardado: C:\\Users\\paola\\OneDrive\\4 Tracks de rutas de supervisión\\Shapefiles_Resultados\\163_26_07_2024 05_25_19 a. m..shp\n",
      "Procesando: C:\\Users\\paola\\OneDrive\\4 Tracks de rutas de supervisión\\Semana del 22 al 26 de julio de 2024\\SALIDAS A CAMPO DEL 22 AL 26 DE JULIO 2024.gpx\n"
     ]
    },
    {
     "name": "stderr",
     "output_type": "stream",
     "text": [
      "C:\\Users\\paola\\AppData\\Local\\Temp\\ipykernel_31280\\2466950100.py:51: UserWarning: Column names longer than 10 characters will be truncated when saved to ESRI Shapefile.\n",
      "  grupo.to_file(ruta_archivo, driver='ESRI Shapefile')\n",
      "C:\\Users\\paola\\AppData\\Local\\Temp\\ipykernel_31280\\2466950100.py:51: UserWarning: Column names longer than 10 characters will be truncated when saved to ESRI Shapefile.\n",
      "  grupo.to_file(ruta_archivo, driver='ESRI Shapefile')\n",
      "C:\\Users\\paola\\AppData\\Local\\Temp\\ipykernel_31280\\2466950100.py:51: UserWarning: Column names longer than 10 characters will be truncated when saved to ESRI Shapefile.\n",
      "  grupo.to_file(ruta_archivo, driver='ESRI Shapefile')\n",
      "C:\\Users\\paola\\AppData\\Local\\Temp\\ipykernel_31280\\2466950100.py:51: UserWarning: Column names longer than 10 characters will be truncated when saved to ESRI Shapefile.\n",
      "  grupo.to_file(ruta_archivo, driver='ESRI Shapefile')\n",
      "C:\\Users\\paola\\AppData\\Local\\Temp\\ipykernel_31280\\2466950100.py:51: UserWarning: Column names longer than 10 characters will be truncated when saved to ESRI Shapefile.\n",
      "  grupo.to_file(ruta_archivo, driver='ESRI Shapefile')\n",
      "C:\\Users\\paola\\AppData\\Local\\Temp\\ipykernel_31280\\2466950100.py:51: UserWarning: Column names longer than 10 characters will be truncated when saved to ESRI Shapefile.\n",
      "  grupo.to_file(ruta_archivo, driver='ESRI Shapefile')\n",
      "C:\\Users\\paola\\AppData\\Local\\Temp\\ipykernel_31280\\2466950100.py:51: UserWarning: Column names longer than 10 characters will be truncated when saved to ESRI Shapefile.\n",
      "  grupo.to_file(ruta_archivo, driver='ESRI Shapefile')\n",
      "C:\\Users\\paola\\AppData\\Local\\Temp\\ipykernel_31280\\2466950100.py:51: UserWarning: Column names longer than 10 characters will be truncated when saved to ESRI Shapefile.\n",
      "  grupo.to_file(ruta_archivo, driver='ESRI Shapefile')\n",
      "C:\\Users\\paola\\AppData\\Local\\Temp\\ipykernel_31280\\2466950100.py:51: UserWarning: Column names longer than 10 characters will be truncated when saved to ESRI Shapefile.\n",
      "  grupo.to_file(ruta_archivo, driver='ESRI Shapefile')\n",
      "C:\\Users\\paola\\AppData\\Local\\Temp\\ipykernel_31280\\2466950100.py:51: UserWarning: Column names longer than 10 characters will be truncated when saved to ESRI Shapefile.\n",
      "  grupo.to_file(ruta_archivo, driver='ESRI Shapefile')\n",
      "C:\\Users\\paola\\AppData\\Local\\Temp\\ipykernel_31280\\2466950100.py:51: UserWarning: Column names longer than 10 characters will be truncated when saved to ESRI Shapefile.\n",
      "  grupo.to_file(ruta_archivo, driver='ESRI Shapefile')\n",
      "C:\\Users\\paola\\AppData\\Local\\Temp\\ipykernel_31280\\2466950100.py:51: UserWarning: Column names longer than 10 characters will be truncated when saved to ESRI Shapefile.\n",
      "  grupo.to_file(ruta_archivo, driver='ESRI Shapefile')\n",
      "C:\\Users\\paola\\AppData\\Local\\Temp\\ipykernel_31280\\2466950100.py:51: UserWarning: Column names longer than 10 characters will be truncated when saved to ESRI Shapefile.\n",
      "  grupo.to_file(ruta_archivo, driver='ESRI Shapefile')\n",
      "C:\\Users\\paola\\AppData\\Local\\Temp\\ipykernel_31280\\2466950100.py:51: UserWarning: Column names longer than 10 characters will be truncated when saved to ESRI Shapefile.\n",
      "  grupo.to_file(ruta_archivo, driver='ESRI Shapefile')\n",
      "C:\\Users\\paola\\AppData\\Local\\Temp\\ipykernel_31280\\2466950100.py:51: UserWarning: Column names longer than 10 characters will be truncated when saved to ESRI Shapefile.\n",
      "  grupo.to_file(ruta_archivo, driver='ESRI Shapefile')\n",
      "C:\\Users\\paola\\AppData\\Local\\Temp\\ipykernel_31280\\2466950100.py:51: UserWarning: Column names longer than 10 characters will be truncated when saved to ESRI Shapefile.\n",
      "  grupo.to_file(ruta_archivo, driver='ESRI Shapefile')\n"
     ]
    },
    {
     "name": "stdout",
     "output_type": "stream",
     "text": [
      "Guardado: C:\\Users\\paola\\OneDrive\\4 Tracks de rutas de supervisión\\Shapefiles_Resultados\\164_23_07_2024 09_07_24 a. m..shp\n",
      "Guardado: C:\\Users\\paola\\OneDrive\\4 Tracks de rutas de supervisión\\Shapefiles_Resultados\\165_23_07_2024 09_30_25 a. m..shp\n",
      "Guardado: C:\\Users\\paola\\OneDrive\\4 Tracks de rutas de supervisión\\Shapefiles_Resultados\\166_23_07_2024 10_36_19 a. m..shp\n",
      "Guardado: C:\\Users\\paola\\OneDrive\\4 Tracks de rutas de supervisión\\Shapefiles_Resultados\\167_23_07_2024 11_11_29 a. m..shp\n",
      "Guardado: C:\\Users\\paola\\OneDrive\\4 Tracks de rutas de supervisión\\Shapefiles_Resultados\\168_24_07_2024 07_34_34 a. m..shp\n",
      "Guardado: C:\\Users\\paola\\OneDrive\\4 Tracks de rutas de supervisión\\Shapefiles_Resultados\\169_26_07_2024 07_01_53 a. m..shp\n",
      "Guardado: C:\\Users\\paola\\OneDrive\\4 Tracks de rutas de supervisión\\Shapefiles_Resultados\\170_26_07_2024 08_38_47 a. m..shp\n",
      "Guardado: C:\\Users\\paola\\OneDrive\\4 Tracks de rutas de supervisión\\Shapefiles_Resultados\\171_26_07_2024 09_00_17 a. m..shp\n",
      "Guardado: C:\\Users\\paola\\OneDrive\\4 Tracks de rutas de supervisión\\Shapefiles_Resultados\\172_26_07_2024 09_58_02 a. m..shp\n",
      "Guardado: C:\\Users\\paola\\OneDrive\\4 Tracks de rutas de supervisión\\Shapefiles_Resultados\\173_CANAL NSA_15 26072024.shp\n",
      "Guardado: C:\\Users\\paola\\OneDrive\\4 Tracks de rutas de supervisión\\Shapefiles_Resultados\\174_CANAL_03 23072024.shp\n",
      "Guardado: C:\\Users\\paola\\OneDrive\\4 Tracks de rutas de supervisión\\Shapefiles_Resultados\\175_CANAL_03 24072024.shp\n",
      "Guardado: C:\\Users\\paola\\OneDrive\\4 Tracks de rutas de supervisión\\Shapefiles_Resultados\\176_EL _MACHO_RAAR_24072024.shp\n",
      "Guardado: C:\\Users\\paola\\OneDrive\\4 Tracks de rutas de supervisión\\Shapefiles_Resultados\\177_ELMACHO_RAAR_24072024.shp\n",
      "Guardado: C:\\Users\\paola\\OneDrive\\4 Tracks de rutas de supervisión\\Shapefiles_Resultados\\178_ELROBLITO_GMR-26072024.shp\n",
      "Guardado: C:\\Users\\paola\\OneDrive\\4 Tracks de rutas de supervisión\\Shapefiles_Resultados\\179_EL_ROBLITO_GRM_26072024.shp\n",
      "Guardado: C:\\Users\\paola\\OneDrive\\4 Tracks de rutas de supervisión\\Shapefiles_Resultados\\180_SAN ANDRES MGPR WAJP VHAM 23072024.shp\n",
      "Guardado: C:\\Users\\paola\\OneDrive\\4 Tracks de rutas de supervisión\\Shapefiles_Resultados\\181_SAN ANDRES R 26072024.shp\n",
      "Guardado: C:\\Users\\paola\\OneDrive\\4 Tracks de rutas de supervisión\\Shapefiles_Resultados\\182_SAN ANDRES S 26072024.shp\n"
     ]
    },
    {
     "name": "stderr",
     "output_type": "stream",
     "text": [
      "C:\\Users\\paola\\AppData\\Local\\Temp\\ipykernel_31280\\2466950100.py:51: UserWarning: Column names longer than 10 characters will be truncated when saved to ESRI Shapefile.\n",
      "  grupo.to_file(ruta_archivo, driver='ESRI Shapefile')\n",
      "C:\\Users\\paola\\AppData\\Local\\Temp\\ipykernel_31280\\2466950100.py:51: UserWarning: Column names longer than 10 characters will be truncated when saved to ESRI Shapefile.\n",
      "  grupo.to_file(ruta_archivo, driver='ESRI Shapefile')\n",
      "C:\\Users\\paola\\AppData\\Local\\Temp\\ipykernel_31280\\2466950100.py:51: UserWarning: Column names longer than 10 characters will be truncated when saved to ESRI Shapefile.\n",
      "  grupo.to_file(ruta_archivo, driver='ESRI Shapefile')\n",
      "C:\\Users\\paola\\AppData\\Local\\Temp\\ipykernel_31280\\2466950100.py:51: UserWarning: Column names longer than 10 characters will be truncated when saved to ESRI Shapefile.\n",
      "  grupo.to_file(ruta_archivo, driver='ESRI Shapefile')\n",
      "C:\\Users\\paola\\AppData\\Local\\Temp\\ipykernel_31280\\2466950100.py:51: UserWarning: Column names longer than 10 characters will be truncated when saved to ESRI Shapefile.\n",
      "  grupo.to_file(ruta_archivo, driver='ESRI Shapefile')\n"
     ]
    },
    {
     "name": "stdout",
     "output_type": "stream",
     "text": [
      "Guardado: C:\\Users\\paola\\OneDrive\\4 Tracks de rutas de supervisión\\Shapefiles_Resultados\\183_SAN ANDRES VHAM MGPR WAJP 24072024.shp\n",
      "Guardado: C:\\Users\\paola\\OneDrive\\4 Tracks de rutas de supervisión\\Shapefiles_Resultados\\184_SAN ANDRES WAJP VHAM MGPR 24 07 2024.shp\n",
      "Guardado: C:\\Users\\paola\\OneDrive\\4 Tracks de rutas de supervisión\\Shapefiles_Resultados\\185_SANANDRES R2 24072024.shp\n",
      "Guardado: C:\\Users\\paola\\OneDrive\\4 Tracks de rutas de supervisión\\Shapefiles_Resultados\\186_SANANDRES R3 24072024.shp\n",
      "Guardado: C:\\Users\\paola\\OneDrive\\4 Tracks de rutas de supervisión\\Shapefiles_Resultados\\187_SANANDRES S2 23072024.shp\n",
      "Guardado: C:\\Users\\paola\\OneDrive\\4 Tracks de rutas de supervisión\\Shapefiles_Resultados\\188_SAN_ANDRES_WAJP_MGPR_VHAM_23072024.shp\n",
      "Guardado: C:\\Users\\paola\\OneDrive\\4 Tracks de rutas de supervisión\\Shapefiles_Resultados\\189_STA CRUZ_MGPR_VHAM_23072024.shp\n",
      "Guardado: C:\\Users\\paola\\OneDrive\\4 Tracks de rutas de supervisión\\Shapefiles_Resultados\\190_STACRUZ-VHAM_MGPR_24072024.shp\n"
     ]
    },
    {
     "name": "stderr",
     "output_type": "stream",
     "text": [
      "C:\\Users\\paola\\AppData\\Local\\Temp\\ipykernel_31280\\2466950100.py:51: UserWarning: Column names longer than 10 characters will be truncated when saved to ESRI Shapefile.\n",
      "  grupo.to_file(ruta_archivo, driver='ESRI Shapefile')\n",
      "C:\\Users\\paola\\AppData\\Local\\Temp\\ipykernel_31280\\2466950100.py:51: UserWarning: Column names longer than 10 characters will be truncated when saved to ESRI Shapefile.\n",
      "  grupo.to_file(ruta_archivo, driver='ESRI Shapefile')\n",
      "C:\\Users\\paola\\AppData\\Local\\Temp\\ipykernel_31280\\2466950100.py:51: UserWarning: Column names longer than 10 characters will be truncated when saved to ESRI Shapefile.\n",
      "  grupo.to_file(ruta_archivo, driver='ESRI Shapefile')\n",
      "C:\\Users\\paola\\AppData\\Local\\Temp\\ipykernel_31280\\2466950100.py:51: UserWarning: Column names longer than 10 characters will be truncated when saved to ESRI Shapefile.\n",
      "  grupo.to_file(ruta_archivo, driver='ESRI Shapefile')\n",
      "C:\\Users\\paola\\AppData\\Local\\Temp\\ipykernel_31280\\2466950100.py:51: UserWarning: Column names longer than 10 characters will be truncated when saved to ESRI Shapefile.\n",
      "  grupo.to_file(ruta_archivo, driver='ESRI Shapefile')\n",
      "C:\\Users\\paola\\AppData\\Local\\Temp\\ipykernel_31280\\2466950100.py:51: UserWarning: Column names longer than 10 characters will be truncated when saved to ESRI Shapefile.\n",
      "  grupo.to_file(ruta_archivo, driver='ESRI Shapefile')\n",
      "C:\\Users\\paola\\AppData\\Local\\Temp\\ipykernel_31280\\2466950100.py:51: UserWarning: Column names longer than 10 characters will be truncated when saved to ESRI Shapefile.\n",
      "  grupo.to_file(ruta_archivo, driver='ESRI Shapefile')\n",
      "C:\\Users\\paola\\AppData\\Local\\Temp\\ipykernel_31280\\2466950100.py:51: UserWarning: Column names longer than 10 characters will be truncated when saved to ESRI Shapefile.\n",
      "  grupo.to_file(ruta_archivo, driver='ESRI Shapefile')\n"
     ]
    },
    {
     "name": "stdout",
     "output_type": "stream",
     "text": [
      "Guardado: C:\\Users\\paola\\OneDrive\\4 Tracks de rutas de supervisión\\Shapefiles_Resultados\\191_STACRUZ_MGPR_VHAM_26072024.shp\n",
      "Guardado: C:\\Users\\paola\\OneDrive\\4 Tracks de rutas de supervisión\\Shapefiles_Resultados\\192_STACRUZ_VHAM_MGPR_26072024.shp\n",
      "Guardado: C:\\Users\\paola\\OneDrive\\4 Tracks de rutas de supervisión\\Shapefiles_Resultados\\193_STA_ CRUZ-MGPR_VHAM-23072024.shp\n",
      "Guardado: C:\\Users\\paola\\OneDrive\\4 Tracks de rutas de supervisión\\Shapefiles_Resultados\\194_STA_CURZ_MGPR_WAJP_VHAM-26072024.shp\n",
      "Procesando: C:\\Users\\paola\\OneDrive\\4 Tracks de rutas de supervisión\\Semana del 24-28 de junio de 2024\\CASA_MGPR_27062024.gpx\n",
      "Guardado: C:\\Users\\paola\\OneDrive\\4 Tracks de rutas de supervisión\\Shapefiles_Resultados\\195_CASA_MGPR_27062024.shp\n",
      "Procesando: C:\\Users\\paola\\OneDrive\\4 Tracks de rutas de supervisión\\Semana del 24-28 de junio de 2024\\El Roblito_AAR_HAM_I_27_06_2024 05_17_18 a. m..gpx\n",
      "Guardado: C:\\Users\\paola\\OneDrive\\4 Tracks de rutas de supervisión\\Shapefiles_Resultados\\196_27_06_2024 05_17_18 a. m..shp\n",
      "Procesando: C:\\Users\\paola\\OneDrive\\4 Tracks de rutas de supervisión\\Semana del 24-28 de junio de 2024\\El Roblito_AAR_HAM_R_27_06_2024 09_12_30 a. m..gpx\n"
     ]
    },
    {
     "name": "stderr",
     "output_type": "stream",
     "text": [
      "C:\\Users\\paola\\AppData\\Local\\Temp\\ipykernel_31280\\2466950100.py:51: UserWarning: Column names longer than 10 characters will be truncated when saved to ESRI Shapefile.\n",
      "  grupo.to_file(ruta_archivo, driver='ESRI Shapefile')\n",
      "C:\\Users\\paola\\AppData\\Local\\Temp\\ipykernel_31280\\2466950100.py:51: UserWarning: Column names longer than 10 characters will be truncated when saved to ESRI Shapefile.\n",
      "  grupo.to_file(ruta_archivo, driver='ESRI Shapefile')\n",
      "C:\\Users\\paola\\AppData\\Local\\Temp\\ipykernel_31280\\2466950100.py:51: UserWarning: Column names longer than 10 characters will be truncated when saved to ESRI Shapefile.\n",
      "  grupo.to_file(ruta_archivo, driver='ESRI Shapefile')\n",
      "C:\\Users\\paola\\AppData\\Local\\Temp\\ipykernel_31280\\2466950100.py:51: UserWarning: Column names longer than 10 characters will be truncated when saved to ESRI Shapefile.\n",
      "  grupo.to_file(ruta_archivo, driver='ESRI Shapefile')\n",
      "C:\\Users\\paola\\AppData\\Local\\Temp\\ipykernel_31280\\2466950100.py:51: UserWarning: Column names longer than 10 characters will be truncated when saved to ESRI Shapefile.\n",
      "  grupo.to_file(ruta_archivo, driver='ESRI Shapefile')\n",
      "C:\\Users\\paola\\AppData\\Local\\Temp\\ipykernel_31280\\2466950100.py:51: UserWarning: Column names longer than 10 characters will be truncated when saved to ESRI Shapefile.\n",
      "  grupo.to_file(ruta_archivo, driver='ESRI Shapefile')\n",
      "C:\\Users\\paola\\AppData\\Local\\Temp\\ipykernel_31280\\2466950100.py:51: UserWarning: Column names longer than 10 characters will be truncated when saved to ESRI Shapefile.\n",
      "  grupo.to_file(ruta_archivo, driver='ESRI Shapefile')\n",
      "C:\\Users\\paola\\AppData\\Local\\Temp\\ipykernel_31280\\2466950100.py:51: UserWarning: Column names longer than 10 characters will be truncated when saved to ESRI Shapefile.\n",
      "  grupo.to_file(ruta_archivo, driver='ESRI Shapefile')\n",
      "C:\\Users\\paola\\AppData\\Local\\Temp\\ipykernel_31280\\2466950100.py:51: UserWarning: Column names longer than 10 characters will be truncated when saved to ESRI Shapefile.\n",
      "  grupo.to_file(ruta_archivo, driver='ESRI Shapefile')\n",
      "C:\\Users\\paola\\AppData\\Local\\Temp\\ipykernel_31280\\2466950100.py:51: UserWarning: Column names longer than 10 characters will be truncated when saved to ESRI Shapefile.\n",
      "  grupo.to_file(ruta_archivo, driver='ESRI Shapefile')\n",
      "C:\\Users\\paola\\AppData\\Local\\Temp\\ipykernel_31280\\2466950100.py:51: UserWarning: Column names longer than 10 characters will be truncated when saved to ESRI Shapefile.\n",
      "  grupo.to_file(ruta_archivo, driver='ESRI Shapefile')\n"
     ]
    },
    {
     "name": "stdout",
     "output_type": "stream",
     "text": [
      "Guardado: C:\\Users\\paola\\OneDrive\\4 Tracks de rutas de supervisión\\Shapefiles_Resultados\\197_27_06_2024 09_12_30 a. m..shp\n",
      "Procesando: C:\\Users\\paola\\OneDrive\\4 Tracks de rutas de supervisión\\Semana del 24-28 de junio de 2024\\ELMACHO_MGPR_WAJP_27062024.gpx\n",
      "Guardado: C:\\Users\\paola\\OneDrive\\4 Tracks de rutas de supervisión\\Shapefiles_Resultados\\198_ELMACHO_MGPR_WAJP_27062024.shp\n",
      "Procesando: C:\\Users\\paola\\OneDrive\\4 Tracks de rutas de supervisión\\Semana del 24-28 de junio de 2024\\ELROBLITO_RAAR_24062024.gpx\n",
      "Guardado: C:\\Users\\paola\\OneDrive\\4 Tracks de rutas de supervisión\\Shapefiles_Resultados\\199_NER-08 24062024.shp\n",
      "Guardado: C:\\Users\\paola\\OneDrive\\4 Tracks de rutas de supervisión\\Shapefiles_Resultados\\200_ROBLITO R 24062024.shp\n",
      "Guardado: C:\\Users\\paola\\OneDrive\\4 Tracks de rutas de supervisión\\Shapefiles_Resultados\\201_ROBLITO S 24062024.shp\n",
      "Procesando: C:\\Users\\paola\\OneDrive\\4 Tracks de rutas de supervisión\\Semana del 24-28 de junio de 2024\\EL_MACHO_MGPR_WAJP_27062024.gpx\n",
      "Guardado: C:\\Users\\paola\\OneDrive\\4 Tracks de rutas de supervisión\\Shapefiles_Resultados\\202_EL_MACHO_MGPR_WAJP_27062024.shp\n",
      "Procesando: C:\\Users\\paola\\OneDrive\\4 Tracks de rutas de supervisión\\Semana del 24-28 de junio de 2024\\El_Roblito_GMM_AAR_24_06_2024 (2).gpx\n"
     ]
    },
    {
     "name": "stderr",
     "output_type": "stream",
     "text": [
      "C:\\Users\\paola\\AppData\\Local\\Temp\\ipykernel_31280\\2466950100.py:51: UserWarning: Column names longer than 10 characters will be truncated when saved to ESRI Shapefile.\n",
      "  grupo.to_file(ruta_archivo, driver='ESRI Shapefile')\n",
      "C:\\Users\\paola\\AppData\\Local\\Temp\\ipykernel_31280\\2466950100.py:51: UserWarning: Column names longer than 10 characters will be truncated when saved to ESRI Shapefile.\n",
      "  grupo.to_file(ruta_archivo, driver='ESRI Shapefile')\n",
      "C:\\Users\\paola\\AppData\\Local\\Temp\\ipykernel_31280\\2466950100.py:51: UserWarning: Column names longer than 10 characters will be truncated when saved to ESRI Shapefile.\n",
      "  grupo.to_file(ruta_archivo, driver='ESRI Shapefile')\n"
     ]
    },
    {
     "name": "stdout",
     "output_type": "stream",
     "text": [
      "Guardado: C:\\Users\\paola\\OneDrive\\4 Tracks de rutas de supervisión\\Shapefiles_Resultados\\203_24_06_2024 05_07_55 a. m..shp\n",
      "Procesando: C:\\Users\\paola\\OneDrive\\4 Tracks de rutas de supervisión\\Semana del 24-28 de junio de 2024\\El_Roblito_GMM_AAR_24_06_2024 (3).gpx\n",
      "Guardado: C:\\Users\\paola\\OneDrive\\4 Tracks de rutas de supervisión\\Shapefiles_Resultados\\204_24_06_2024 08_37_11 a. m..shp\n",
      "Procesando: C:\\Users\\paola\\OneDrive\\4 Tracks de rutas de supervisión\\Semana del 24-28 de junio de 2024\\El_Roblito_GMM_AAR_24_06_2024.gpx\n",
      "Guardado: C:\\Users\\paola\\OneDrive\\4 Tracks de rutas de supervisión\\Shapefiles_Resultados\\205_24_06_2024 10_39_39 a. m..shp\n",
      "Procesando: C:\\Users\\paola\\OneDrive\\4 Tracks de rutas de supervisión\\Semana del 24-28 de junio de 2024\\RECORRIDOS 24 25 06 2024.gpx\n"
     ]
    },
    {
     "name": "stderr",
     "output_type": "stream",
     "text": [
      "C:\\Users\\paola\\AppData\\Local\\Temp\\ipykernel_31280\\2466950100.py:51: UserWarning: Column names longer than 10 characters will be truncated when saved to ESRI Shapefile.\n",
      "  grupo.to_file(ruta_archivo, driver='ESRI Shapefile')\n",
      "C:\\Users\\paola\\AppData\\Local\\Temp\\ipykernel_31280\\2466950100.py:51: UserWarning: Column names longer than 10 characters will be truncated when saved to ESRI Shapefile.\n",
      "  grupo.to_file(ruta_archivo, driver='ESRI Shapefile')\n",
      "C:\\Users\\paola\\AppData\\Local\\Temp\\ipykernel_31280\\2466950100.py:51: UserWarning: Column names longer than 10 characters will be truncated when saved to ESRI Shapefile.\n",
      "  grupo.to_file(ruta_archivo, driver='ESRI Shapefile')\n",
      "C:\\Users\\paola\\AppData\\Local\\Temp\\ipykernel_31280\\2466950100.py:51: UserWarning: Column names longer than 10 characters will be truncated when saved to ESRI Shapefile.\n",
      "  grupo.to_file(ruta_archivo, driver='ESRI Shapefile')\n"
     ]
    },
    {
     "name": "stdout",
     "output_type": "stream",
     "text": [
      "Guardado: C:\\Users\\paola\\OneDrive\\4 Tracks de rutas de supervisión\\Shapefiles_Resultados\\206_CASA_MGPR_24062024.shp\n",
      "Guardado: C:\\Users\\paola\\OneDrive\\4 Tracks de rutas de supervisión\\Shapefiles_Resultados\\207_STA _CRUZ_MGPR_WAJP-VHAM_RAAR_25-062024.shp\n",
      "Guardado: C:\\Users\\paola\\OneDrive\\4 Tracks de rutas de supervisión\\Shapefiles_Resultados\\208_STACRUZ-MGPR_WAJP_VHAM_RAAR_25062024.shp\n",
      "Guardado: C:\\Users\\paola\\OneDrive\\4 Tracks de rutas de supervisión\\Shapefiles_Resultados\\209_STA_CRUZ_MGPR_WAJP_VHAM_RAAR_25062024.shp\n",
      "Procesando: C:\\Users\\paola\\OneDrive\\4 Tracks de rutas de supervisión\\Semana del 24-28 de junio de 2024\\SAN ANDRES 25062024.gpx\n"
     ]
    },
    {
     "name": "stderr",
     "output_type": "stream",
     "text": [
      "C:\\Users\\paola\\AppData\\Local\\Temp\\ipykernel_31280\\2466950100.py:51: UserWarning: Column names longer than 10 characters will be truncated when saved to ESRI Shapefile.\n",
      "  grupo.to_file(ruta_archivo, driver='ESRI Shapefile')\n",
      "C:\\Users\\paola\\AppData\\Local\\Temp\\ipykernel_31280\\2466950100.py:51: UserWarning: Column names longer than 10 characters will be truncated when saved to ESRI Shapefile.\n",
      "  grupo.to_file(ruta_archivo, driver='ESRI Shapefile')\n"
     ]
    },
    {
     "name": "stdout",
     "output_type": "stream",
     "text": [
      "Guardado: C:\\Users\\paola\\OneDrive\\4 Tracks de rutas de supervisión\\Shapefiles_Resultados\\210_SANANDRES R 25062024.shp\n",
      "Guardado: C:\\Users\\paola\\OneDrive\\4 Tracks de rutas de supervisión\\Shapefiles_Resultados\\211_SANANDRES S 25062024.shp\n",
      "Procesando: C:\\Users\\paola\\OneDrive\\4 Tracks de rutas de supervisión\\Semana del 24-28 de junio de 2024\\SANANDRES_RAAR_25062024.gpx\n"
     ]
    },
    {
     "name": "stderr",
     "output_type": "stream",
     "text": [
      "C:\\Users\\paola\\AppData\\Local\\Temp\\ipykernel_31280\\2466950100.py:51: UserWarning: Column names longer than 10 characters will be truncated when saved to ESRI Shapefile.\n",
      "  grupo.to_file(ruta_archivo, driver='ESRI Shapefile')\n",
      "C:\\Users\\paola\\AppData\\Local\\Temp\\ipykernel_31280\\2466950100.py:51: UserWarning: Column names longer than 10 characters will be truncated when saved to ESRI Shapefile.\n",
      "  grupo.to_file(ruta_archivo, driver='ESRI Shapefile')\n"
     ]
    },
    {
     "name": "stdout",
     "output_type": "stream",
     "text": [
      "Guardado: C:\\Users\\paola\\OneDrive\\4 Tracks de rutas de supervisión\\Shapefiles_Resultados\\212_REGRESO DE SAN ANDRES.shp\n",
      "Guardado: C:\\Users\\paola\\OneDrive\\4 Tracks de rutas de supervisión\\Shapefiles_Resultados\\213_SALIDA A SAN ANDRES.shp\n",
      "Procesando: C:\\Users\\paola\\OneDrive\\4 Tracks de rutas de supervisión\\Semana del 28-0ct a 1o-Nov\\SALIDA A CAMPO VALLE DE LA URRACA DEL 28 AL 01 DE NOVIEMBRE 2024.gpx\n"
     ]
    },
    {
     "name": "stderr",
     "output_type": "stream",
     "text": [
      "C:\\Users\\paola\\AppData\\Local\\Temp\\ipykernel_31280\\2466950100.py:51: UserWarning: Column names longer than 10 characters will be truncated when saved to ESRI Shapefile.\n",
      "  grupo.to_file(ruta_archivo, driver='ESRI Shapefile')\n",
      "C:\\Users\\paola\\AppData\\Local\\Temp\\ipykernel_31280\\2466950100.py:51: UserWarning: Column names longer than 10 characters will be truncated when saved to ESRI Shapefile.\n",
      "  grupo.to_file(ruta_archivo, driver='ESRI Shapefile')\n"
     ]
    },
    {
     "name": "stdout",
     "output_type": "stream",
     "text": [
      "Guardado: C:\\Users\\paola\\OneDrive\\4 Tracks de rutas de supervisión\\Shapefiles_Resultados\\214_31_07_2024 09_43_57 a. m..shp\n",
      "Guardado: C:\\Users\\paola\\OneDrive\\4 Tracks de rutas de supervisión\\Shapefiles_Resultados\\215_31_10_2024 06_16_34 a. m..shp\n"
     ]
    },
    {
     "name": "stderr",
     "output_type": "stream",
     "text": [
      "C:\\Users\\paola\\AppData\\Local\\Temp\\ipykernel_31280\\2466950100.py:51: UserWarning: Column names longer than 10 characters will be truncated when saved to ESRI Shapefile.\n",
      "  grupo.to_file(ruta_archivo, driver='ESRI Shapefile')\n",
      "C:\\Users\\paola\\AppData\\Local\\Temp\\ipykernel_31280\\2466950100.py:51: UserWarning: Column names longer than 10 characters will be truncated when saved to ESRI Shapefile.\n",
      "  grupo.to_file(ruta_archivo, driver='ESRI Shapefile')\n",
      "C:\\Users\\paola\\AppData\\Local\\Temp\\ipykernel_31280\\2466950100.py:51: UserWarning: Column names longer than 10 characters will be truncated when saved to ESRI Shapefile.\n",
      "  grupo.to_file(ruta_archivo, driver='ESRI Shapefile')\n",
      "C:\\Users\\paola\\AppData\\Local\\Temp\\ipykernel_31280\\2466950100.py:51: UserWarning: Column names longer than 10 characters will be truncated when saved to ESRI Shapefile.\n",
      "  grupo.to_file(ruta_archivo, driver='ESRI Shapefile')\n"
     ]
    },
    {
     "name": "stdout",
     "output_type": "stream",
     "text": [
      "Guardado: C:\\Users\\paola\\OneDrive\\4 Tracks de rutas de supervisión\\Shapefiles_Resultados\\216_31_10_2024 07_44_40 a. m..shp\n",
      "Guardado: C:\\Users\\paola\\OneDrive\\4 Tracks de rutas de supervisión\\Shapefiles_Resultados\\217_31_10_2024 07_49_31 a. m..shp\n",
      "Guardado: C:\\Users\\paola\\OneDrive\\4 Tracks de rutas de supervisión\\Shapefiles_Resultados\\218_31_10_2024 08_37_34 a. m..shp\n",
      "Guardado: C:\\Users\\paola\\OneDrive\\4 Tracks de rutas de supervisión\\Shapefiles_Resultados\\219_31_10_2024 09_27_01 a. m..shp\n",
      "Procesando: C:\\Users\\paola\\OneDrive\\4 Tracks de rutas de supervisión\\Semana del 29 julio a 02 de agosto de 2024\\EL_Roblito_AAR_R_02_08_2024 09_05_48 a. m..gpx\n",
      "Guardado: C:\\Users\\paola\\OneDrive\\4 Tracks de rutas de supervisión\\Shapefiles_Resultados\\220_02_08_2024 09_05_48 a. m..shp\n",
      "Procesando: C:\\Users\\paola\\OneDrive\\4 Tracks de rutas de supervisión\\Semana del 29 julio a 02 de agosto de 2024\\El_Roblito_AAR_R_30_07_2024 08_03_04 a. m..gpx\n",
      "Guardado: C:\\Users\\paola\\OneDrive\\4 Tracks de rutas de supervisión\\Shapefiles_Resultados\\221_30_07_2024 08_03_04 a. m..shp\n",
      "Procesando: C:\\Users\\paola\\OneDrive\\4 Tracks de rutas de supervisión\\Semana del 29 julio a 02 de agosto de 2024\\El_Roblito_AAR_S_02_08_2024 05_15_32 a. m..gpx\n",
      "Guardado: C:\\Users\\paola\\OneDrive\\4 Tracks de rutas de supervisión\\Shapefiles_Resultados\\222_02_08_2024 05_15_32 a. m..shp\n",
      "Procesando: C:\\Users\\paola\\OneDrive\\4 Tracks de rutas de supervisión\\Semana del 29 julio a 02 de agosto de 2024\\El_Roblito_AAR_S_30_07_2024 05_21_20 a. m..gpx\n"
     ]
    },
    {
     "name": "stderr",
     "output_type": "stream",
     "text": [
      "C:\\Users\\paola\\AppData\\Local\\Temp\\ipykernel_31280\\2466950100.py:51: UserWarning: Column names longer than 10 characters will be truncated when saved to ESRI Shapefile.\n",
      "  grupo.to_file(ruta_archivo, driver='ESRI Shapefile')\n",
      "C:\\Users\\paola\\AppData\\Local\\Temp\\ipykernel_31280\\2466950100.py:51: UserWarning: Column names longer than 10 characters will be truncated when saved to ESRI Shapefile.\n",
      "  grupo.to_file(ruta_archivo, driver='ESRI Shapefile')\n",
      "C:\\Users\\paola\\AppData\\Local\\Temp\\ipykernel_31280\\2466950100.py:51: UserWarning: Column names longer than 10 characters will be truncated when saved to ESRI Shapefile.\n",
      "  grupo.to_file(ruta_archivo, driver='ESRI Shapefile')\n",
      "C:\\Users\\paola\\AppData\\Local\\Temp\\ipykernel_31280\\2466950100.py:51: UserWarning: Column names longer than 10 characters will be truncated when saved to ESRI Shapefile.\n",
      "  grupo.to_file(ruta_archivo, driver='ESRI Shapefile')\n"
     ]
    },
    {
     "name": "stdout",
     "output_type": "stream",
     "text": [
      "Guardado: C:\\Users\\paola\\OneDrive\\4 Tracks de rutas de supervisión\\Shapefiles_Resultados\\223_30_07_2024 05_21_20 a. m..shp\n",
      "Procesando: C:\\Users\\paola\\OneDrive\\4 Tracks de rutas de supervisión\\Semana del 29 julio a 02 de agosto de 2024\\NER_07_AAR_30_07_2024 07_24_39 a. m..gpx\n",
      "Guardado: C:\\Users\\paola\\OneDrive\\4 Tracks de rutas de supervisión\\Shapefiles_Resultados\\224_30_07_2024 07_24_39 a. m..shp\n",
      "Procesando: C:\\Users\\paola\\OneDrive\\4 Tracks de rutas de supervisión\\Semana del 29 julio a 02 de agosto de 2024\\NER_10_AAR_02_08_2024 06_48_18 a. m..gpx\n",
      "Guardado: C:\\Users\\paola\\OneDrive\\4 Tracks de rutas de supervisión\\Shapefiles_Resultados\\225_02_08_2024 06_48_18 a. m..shp\n",
      "Procesando: C:\\Users\\paola\\OneDrive\\4 Tracks de rutas de supervisión\\Semana del 29 julio a 02 de agosto de 2024\\NER_10_AAR_30_07_2024 06_33_57 a. m..gpx\n",
      "Guardado: C:\\Users\\paola\\OneDrive\\4 Tracks de rutas de supervisión\\Shapefiles_Resultados\\226_30_07_2024 06_33_57 a. m..shp\n",
      "Procesando: C:\\Users\\paola\\OneDrive\\4 Tracks de rutas de supervisión\\Semana del 29 julio a 02 de agosto de 2024\\NER_10_AAR_30_07_2024 07_15_17 a. m..gpx\n",
      "Guardado: C:\\Users\\paola\\OneDrive\\4 Tracks de rutas de supervisión\\Shapefiles_Resultados\\227_30_07_2024 07_15_17 a. m..shp\n",
      "Procesando: C:\\Users\\paola\\OneDrive\\4 Tracks de rutas de supervisión\\Semana del 29 julio a 02 de agosto de 2024\\NPH_32_GMM_02_08_2024 08_09_07 a. m..gpx\n",
      "Guardado: C:\\Users\\paola\\OneDrive\\4 Tracks de rutas de supervisión\\Shapefiles_Resultados\\228_02_08_2024 08_09_07 a. m..shp\n",
      "Procesando: C:\\Users\\paola\\OneDrive\\4 Tracks de rutas de supervisión\\Semana del 29 julio a 02 de agosto de 2024\\NPH_40_02_08_2024 08_58_57 a. m..gpx\n",
      "Guardado: C:\\Users\\paola\\OneDrive\\4 Tracks de rutas de supervisión\\Shapefiles_Resultados\\229_02_08_2024 08_58_57 a. m..shp\n",
      "Procesando: C:\\Users\\paola\\OneDrive\\4 Tracks de rutas de supervisión\\Semana del 29 julio a 02 de agosto de 2024\\Paso_Hondo_GMM_R_02_08_2024 09_17_55 a. m..gpx\n"
     ]
    },
    {
     "name": "stderr",
     "output_type": "stream",
     "text": [
      "C:\\Users\\paola\\AppData\\Local\\Temp\\ipykernel_31280\\2466950100.py:51: UserWarning: Column names longer than 10 characters will be truncated when saved to ESRI Shapefile.\n",
      "  grupo.to_file(ruta_archivo, driver='ESRI Shapefile')\n",
      "C:\\Users\\paola\\AppData\\Local\\Temp\\ipykernel_31280\\2466950100.py:51: UserWarning: Column names longer than 10 characters will be truncated when saved to ESRI Shapefile.\n",
      "  grupo.to_file(ruta_archivo, driver='ESRI Shapefile')\n",
      "C:\\Users\\paola\\AppData\\Local\\Temp\\ipykernel_31280\\2466950100.py:51: UserWarning: Column names longer than 10 characters will be truncated when saved to ESRI Shapefile.\n",
      "  grupo.to_file(ruta_archivo, driver='ESRI Shapefile')\n",
      "C:\\Users\\paola\\AppData\\Local\\Temp\\ipykernel_31280\\2466950100.py:51: UserWarning: Column names longer than 10 characters will be truncated when saved to ESRI Shapefile.\n",
      "  grupo.to_file(ruta_archivo, driver='ESRI Shapefile')\n",
      "C:\\Users\\paola\\AppData\\Local\\Temp\\ipykernel_31280\\2466950100.py:51: UserWarning: Column names longer than 10 characters will be truncated when saved to ESRI Shapefile.\n",
      "  grupo.to_file(ruta_archivo, driver='ESRI Shapefile')\n",
      "C:\\Users\\paola\\AppData\\Local\\Temp\\ipykernel_31280\\2466950100.py:51: UserWarning: Column names longer than 10 characters will be truncated when saved to ESRI Shapefile.\n",
      "  grupo.to_file(ruta_archivo, driver='ESRI Shapefile')\n",
      "C:\\Users\\paola\\AppData\\Local\\Temp\\ipykernel_31280\\2466950100.py:51: UserWarning: Column names longer than 10 characters will be truncated when saved to ESRI Shapefile.\n",
      "  grupo.to_file(ruta_archivo, driver='ESRI Shapefile')\n"
     ]
    },
    {
     "name": "stdout",
     "output_type": "stream",
     "text": [
      "Guardado: C:\\Users\\paola\\OneDrive\\4 Tracks de rutas de supervisión\\Shapefiles_Resultados\\230_02_08_2024 09_17_55 a. m..shp\n",
      "Procesando: C:\\Users\\paola\\OneDrive\\4 Tracks de rutas de supervisión\\Semana del 29 julio a 02 de agosto de 2024\\Paso_Hondo_GMM_S_02_08_2024 05_14_53 a. m..gpx\n",
      "Guardado: C:\\Users\\paola\\OneDrive\\4 Tracks de rutas de supervisión\\Shapefiles_Resultados\\231_02_08_2024 05_14_53 a. m..shp\n",
      "Procesando: C:\\Users\\paola\\OneDrive\\4 Tracks de rutas de supervisión\\Semana del 29 julio a 02 de agosto de 2024\\Paso_Hondo_GMM_S_02_08_2024 08_13_14 a. m..gpx\n",
      "Guardado: C:\\Users\\paola\\OneDrive\\4 Tracks de rutas de supervisión\\Shapefiles_Resultados\\232_02_08_2024 08_13_14 a. m..shp\n",
      "Procesando: C:\\Users\\paola\\OneDrive\\4 Tracks de rutas de supervisión\\Semana del 29 julio a 02 de agosto de 2024\\salidas a campo del 29 al 02 de agosto.gpx\n"
     ]
    },
    {
     "name": "stderr",
     "output_type": "stream",
     "text": [
      "C:\\Users\\paola\\AppData\\Local\\Temp\\ipykernel_31280\\2466950100.py:51: UserWarning: Column names longer than 10 characters will be truncated when saved to ESRI Shapefile.\n",
      "  grupo.to_file(ruta_archivo, driver='ESRI Shapefile')\n",
      "C:\\Users\\paola\\AppData\\Local\\Temp\\ipykernel_31280\\2466950100.py:51: UserWarning: Column names longer than 10 characters will be truncated when saved to ESRI Shapefile.\n",
      "  grupo.to_file(ruta_archivo, driver='ESRI Shapefile')\n",
      "C:\\Users\\paola\\AppData\\Local\\Temp\\ipykernel_31280\\2466950100.py:51: UserWarning: Column names longer than 10 characters will be truncated when saved to ESRI Shapefile.\n",
      "  grupo.to_file(ruta_archivo, driver='ESRI Shapefile')\n",
      "C:\\Users\\paola\\AppData\\Local\\Temp\\ipykernel_31280\\2466950100.py:51: UserWarning: Column names longer than 10 characters will be truncated when saved to ESRI Shapefile.\n",
      "  grupo.to_file(ruta_archivo, driver='ESRI Shapefile')\n",
      "C:\\Users\\paola\\AppData\\Local\\Temp\\ipykernel_31280\\2466950100.py:51: UserWarning: Column names longer than 10 characters will be truncated when saved to ESRI Shapefile.\n",
      "  grupo.to_file(ruta_archivo, driver='ESRI Shapefile')\n",
      "C:\\Users\\paola\\AppData\\Local\\Temp\\ipykernel_31280\\2466950100.py:51: UserWarning: Column names longer than 10 characters will be truncated when saved to ESRI Shapefile.\n",
      "  grupo.to_file(ruta_archivo, driver='ESRI Shapefile')\n",
      "C:\\Users\\paola\\AppData\\Local\\Temp\\ipykernel_31280\\2466950100.py:51: UserWarning: Column names longer than 10 characters will be truncated when saved to ESRI Shapefile.\n",
      "  grupo.to_file(ruta_archivo, driver='ESRI Shapefile')\n",
      "C:\\Users\\paola\\AppData\\Local\\Temp\\ipykernel_31280\\2466950100.py:51: UserWarning: Column names longer than 10 characters will be truncated when saved to ESRI Shapefile.\n",
      "  grupo.to_file(ruta_archivo, driver='ESRI Shapefile')\n",
      "C:\\Users\\paola\\AppData\\Local\\Temp\\ipykernel_31280\\2466950100.py:51: UserWarning: Column names longer than 10 characters will be truncated when saved to ESRI Shapefile.\n",
      "  grupo.to_file(ruta_archivo, driver='ESRI Shapefile')\n",
      "C:\\Users\\paola\\AppData\\Local\\Temp\\ipykernel_31280\\2466950100.py:51: UserWarning: Column names longer than 10 characters will be truncated when saved to ESRI Shapefile.\n",
      "  grupo.to_file(ruta_archivo, driver='ESRI Shapefile')\n",
      "C:\\Users\\paola\\AppData\\Local\\Temp\\ipykernel_31280\\2466950100.py:51: UserWarning: Column names longer than 10 characters will be truncated when saved to ESRI Shapefile.\n",
      "  grupo.to_file(ruta_archivo, driver='ESRI Shapefile')\n"
     ]
    },
    {
     "name": "stdout",
     "output_type": "stream",
     "text": [
      "Guardado: C:\\Users\\paola\\OneDrive\\4 Tracks de rutas de supervisión\\Shapefiles_Resultados\\233_02_08_2024 07_02_33 a. m..shp\n",
      "Guardado: C:\\Users\\paola\\OneDrive\\4 Tracks de rutas de supervisión\\Shapefiles_Resultados\\234_02_08_2024 07_10_56 a. m..shp\n",
      "Guardado: C:\\Users\\paola\\OneDrive\\4 Tracks de rutas de supervisión\\Shapefiles_Resultados\\235_02_08_2024 09_23_56 a. m..shp\n",
      "Guardado: C:\\Users\\paola\\OneDrive\\4 Tracks de rutas de supervisión\\Shapefiles_Resultados\\236_05_08_2024 05_16_30 a. m..shp\n",
      "Guardado: C:\\Users\\paola\\OneDrive\\4 Tracks de rutas de supervisión\\Shapefiles_Resultados\\237_05_08_2024 09_15_00 a. m..shp\n",
      "Guardado: C:\\Users\\paola\\OneDrive\\4 Tracks de rutas de supervisión\\Shapefiles_Resultados\\238_05_08_2024 09_17_16 a. m..shp\n",
      "Guardado: C:\\Users\\paola\\OneDrive\\4 Tracks de rutas de supervisión\\Shapefiles_Resultados\\239_EL MACHO 02082024RAAR.shp\n",
      "Guardado: C:\\Users\\paola\\OneDrive\\4 Tracks de rutas de supervisión\\Shapefiles_Resultados\\240_EL MACHO GMM 02 08 2024.shp\n",
      "Guardado: C:\\Users\\paola\\OneDrive\\4 Tracks de rutas de supervisión\\Shapefiles_Resultados\\241_EL MACHO GMM 02 082024.shp\n",
      "Guardado: C:\\Users\\paola\\OneDrive\\4 Tracks de rutas de supervisión\\Shapefiles_Resultados\\242_EL MACHO GMM 02082024.shp\n",
      "Guardado: C:\\Users\\paola\\OneDrive\\4 Tracks de rutas de supervisión\\Shapefiles_Resultados\\243_EL ROBLITO RAAR 02 082024.shp\n",
      "Guardado: C:\\Users\\paola\\OneDrive\\4 Tracks de rutas de supervisión\\Shapefiles_Resultados\\244_EL ROBLITO RAAR 02082024.shp\n",
      "Guardado: C:\\Users\\paola\\OneDrive\\4 Tracks de rutas de supervisión\\Shapefiles_Resultados\\245_EL ROBLITO RAAR 30 07 2024.shp\n",
      "Guardado: C:\\Users\\paola\\OneDrive\\4 Tracks de rutas de supervisión\\Shapefiles_Resultados\\246_EL ROBLITO RAAR 30 072024.shp\n",
      "Guardado: C:\\Users\\paola\\OneDrive\\4 Tracks de rutas de supervisión\\Shapefiles_Resultados\\247_EL ROBLITO RAAR 30072024.shp\n",
      "Guardado: C:\\Users\\paola\\OneDrive\\4 Tracks de rutas de supervisión\\Shapefiles_Resultados\\248_EL ROBLITO RAAR _30072024.shp\n",
      "Guardado: C:\\Users\\paola\\OneDrive\\4 Tracks de rutas de supervisión\\Shapefiles_Resultados\\249_EL RPBLITO RAAR_02082024.shp\n"
     ]
    },
    {
     "name": "stderr",
     "output_type": "stream",
     "text": [
      "C:\\Users\\paola\\AppData\\Local\\Temp\\ipykernel_31280\\2466950100.py:51: UserWarning: Column names longer than 10 characters will be truncated when saved to ESRI Shapefile.\n",
      "  grupo.to_file(ruta_archivo, driver='ESRI Shapefile')\n",
      "C:\\Users\\paola\\AppData\\Local\\Temp\\ipykernel_31280\\2466950100.py:51: UserWarning: Column names longer than 10 characters will be truncated when saved to ESRI Shapefile.\n",
      "  grupo.to_file(ruta_archivo, driver='ESRI Shapefile')\n",
      "C:\\Users\\paola\\AppData\\Local\\Temp\\ipykernel_31280\\2466950100.py:51: UserWarning: Column names longer than 10 characters will be truncated when saved to ESRI Shapefile.\n",
      "  grupo.to_file(ruta_archivo, driver='ESRI Shapefile')\n",
      "C:\\Users\\paola\\AppData\\Local\\Temp\\ipykernel_31280\\2466950100.py:51: UserWarning: Column names longer than 10 characters will be truncated when saved to ESRI Shapefile.\n",
      "  grupo.to_file(ruta_archivo, driver='ESRI Shapefile')\n",
      "C:\\Users\\paola\\AppData\\Local\\Temp\\ipykernel_31280\\2466950100.py:51: UserWarning: Column names longer than 10 characters will be truncated when saved to ESRI Shapefile.\n",
      "  grupo.to_file(ruta_archivo, driver='ESRI Shapefile')\n",
      "C:\\Users\\paola\\AppData\\Local\\Temp\\ipykernel_31280\\2466950100.py:51: UserWarning: Column names longer than 10 characters will be truncated when saved to ESRI Shapefile.\n",
      "  grupo.to_file(ruta_archivo, driver='ESRI Shapefile')\n",
      "C:\\Users\\paola\\AppData\\Local\\Temp\\ipykernel_31280\\2466950100.py:51: UserWarning: Column names longer than 10 characters will be truncated when saved to ESRI Shapefile.\n",
      "  grupo.to_file(ruta_archivo, driver='ESRI Shapefile')\n",
      "C:\\Users\\paola\\AppData\\Local\\Temp\\ipykernel_31280\\2466950100.py:51: UserWarning: Column names longer than 10 characters will be truncated when saved to ESRI Shapefile.\n",
      "  grupo.to_file(ruta_archivo, driver='ESRI Shapefile')\n",
      "C:\\Users\\paola\\AppData\\Local\\Temp\\ipykernel_31280\\2466950100.py:51: UserWarning: Column names longer than 10 characters will be truncated when saved to ESRI Shapefile.\n",
      "  grupo.to_file(ruta_archivo, driver='ESRI Shapefile')\n"
     ]
    },
    {
     "name": "stdout",
     "output_type": "stream",
     "text": [
      "Guardado: C:\\Users\\paola\\OneDrive\\4 Tracks de rutas de supervisión\\Shapefiles_Resultados\\250_ELMACHO GMM 02082024.shp\n",
      "Guardado: C:\\Users\\paola\\OneDrive\\4 Tracks de rutas de supervisión\\Shapefiles_Resultados\\251_ELROBLITO RAAR 30072024.shp\n",
      "Guardado: C:\\Users\\paola\\OneDrive\\4 Tracks de rutas de supervisión\\Shapefiles_Resultados\\252_SAN ANDRES WAJP 30072024.shp\n",
      "Guardado: C:\\Users\\paola\\OneDrive\\4 Tracks de rutas de supervisión\\Shapefiles_Resultados\\253_SAN ANDRES_WAJP_30072024.shp\n",
      "Guardado: C:\\Users\\paola\\OneDrive\\4 Tracks de rutas de supervisión\\Shapefiles_Resultados\\254_SANTA CRUZ VHAM MGPR WAJP 3007 2024.shp\n",
      "Guardado: C:\\Users\\paola\\OneDrive\\4 Tracks de rutas de supervisión\\Shapefiles_Resultados\\255_STA CRUZ VHAM MAGPR 30072024.shp\n",
      "Guardado: C:\\Users\\paola\\OneDrive\\4 Tracks de rutas de supervisión\\Shapefiles_Resultados\\256_STA CRUZ WAJP MGPR VAHM 30072024.shp\n"
     ]
    },
    {
     "name": "stderr",
     "output_type": "stream",
     "text": [
      "C:\\Users\\paola\\AppData\\Local\\Temp\\ipykernel_31280\\2466950100.py:51: UserWarning: Column names longer than 10 characters will be truncated when saved to ESRI Shapefile.\n",
      "  grupo.to_file(ruta_archivo, driver='ESRI Shapefile')\n",
      "C:\\Users\\paola\\AppData\\Local\\Temp\\ipykernel_31280\\2466950100.py:51: UserWarning: Column names longer than 10 characters will be truncated when saved to ESRI Shapefile.\n",
      "  grupo.to_file(ruta_archivo, driver='ESRI Shapefile')\n",
      "C:\\Users\\paola\\AppData\\Local\\Temp\\ipykernel_31280\\2466950100.py:51: UserWarning: Column names longer than 10 characters will be truncated when saved to ESRI Shapefile.\n",
      "  grupo.to_file(ruta_archivo, driver='ESRI Shapefile')\n",
      "C:\\Users\\paola\\AppData\\Local\\Temp\\ipykernel_31280\\2466950100.py:51: UserWarning: Column names longer than 10 characters will be truncated when saved to ESRI Shapefile.\n",
      "  grupo.to_file(ruta_archivo, driver='ESRI Shapefile')\n",
      "C:\\Users\\paola\\AppData\\Local\\Temp\\ipykernel_31280\\2466950100.py:51: UserWarning: Column names longer than 10 characters will be truncated when saved to ESRI Shapefile.\n",
      "  grupo.to_file(ruta_archivo, driver='ESRI Shapefile')\n",
      "C:\\Users\\paola\\AppData\\Local\\Temp\\ipykernel_31280\\2466950100.py:51: UserWarning: Column names longer than 10 characters will be truncated when saved to ESRI Shapefile.\n",
      "  grupo.to_file(ruta_archivo, driver='ESRI Shapefile')\n",
      "C:\\Users\\paola\\AppData\\Local\\Temp\\ipykernel_31280\\2466950100.py:51: UserWarning: Column names longer than 10 characters will be truncated when saved to ESRI Shapefile.\n",
      "  grupo.to_file(ruta_archivo, driver='ESRI Shapefile')\n"
     ]
    },
    {
     "name": "stdout",
     "output_type": "stream",
     "text": [
      "Guardado: C:\\Users\\paola\\OneDrive\\4 Tracks de rutas de supervisión\\Shapefiles_Resultados\\257_STA_CRUZ_VHAM_MGPR_30072024.shp\n",
      "Procesando: C:\\Users\\paola\\OneDrive\\4 Tracks de rutas de supervisión\\Semana del 29 julio a 02 de agosto de 2024\\Salida_Tepic_AAR_HAM_31_07_2024 09_43_57 a. m..gpx\n"
     ]
    },
    {
     "name": "stderr",
     "output_type": "stream",
     "text": [
      "C:\\Users\\paola\\AppData\\Local\\Temp\\ipykernel_31280\\2466950100.py:51: UserWarning: Column names longer than 10 characters will be truncated when saved to ESRI Shapefile.\n",
      "  grupo.to_file(ruta_archivo, driver='ESRI Shapefile')\n",
      "C:\\Users\\paola\\AppData\\Local\\Temp\\ipykernel_31280\\2466950100.py:51: UserWarning: Column names longer than 10 characters will be truncated when saved to ESRI Shapefile.\n",
      "  grupo.to_file(ruta_archivo, driver='ESRI Shapefile')\n",
      "C:\\Users\\paola\\AppData\\Local\\Temp\\ipykernel_31280\\2466950100.py:51: UserWarning: Column names longer than 10 characters will be truncated when saved to ESRI Shapefile.\n",
      "  grupo.to_file(ruta_archivo, driver='ESRI Shapefile')\n"
     ]
    },
    {
     "name": "stdout",
     "output_type": "stream",
     "text": [
      "Guardado: C:\\Users\\paola\\OneDrive\\4 Tracks de rutas de supervisión\\Shapefiles_Resultados\\258_31_07_2024 09_43_57 a. m..shp\n",
      "Procesando: C:\\Users\\paola\\OneDrive\\4 Tracks de rutas de supervisión\\Semana del 8 al 12 de julio\\Paso_Hondo_AAR_I_10_07_2024 06_35_50 a. m..gpx\n",
      "Guardado: C:\\Users\\paola\\OneDrive\\4 Tracks de rutas de supervisión\\Shapefiles_Resultados\\259_10_07_2024 06_35_50 a. m..shp\n",
      "Procesando: C:\\Users\\paola\\OneDrive\\4 Tracks de rutas de supervisión\\Semana del 8 al 12 de julio\\Paso_Hondo_AAR_R_10_07_2024 12_02_05 p. m..gpx\n",
      "Guardado: C:\\Users\\paola\\OneDrive\\4 Tracks de rutas de supervisión\\Shapefiles_Resultados\\260_10_07_2024 12_02_05 p. m..shp\n",
      "Procesando: C:\\Users\\paola\\OneDrive\\4 Tracks de rutas de supervisión\\Semana del 8 al 12 de julio\\SALIDA A CAMPO 12 07 2024 ROBLITO.gpx\n",
      "Guardado: C:\\Users\\paola\\OneDrive\\4 Tracks de rutas de supervisión\\Shapefiles_Resultados\\261_ELROBLITO_MGPR_12072024.shp\n",
      "Guardado: C:\\Users\\paola\\OneDrive\\4 Tracks de rutas de supervisión\\Shapefiles_Resultados\\262_EL_ROBLITO_MGPR_12072024.shp\n",
      "Procesando: C:\\Users\\paola\\OneDrive\\4 Tracks de rutas de supervisión\\Semana del 8 al 12 de julio\\SALIDAS A CAMPO DEL 08 AL 12 DE JULIO 2024.gpx\n"
     ]
    },
    {
     "name": "stderr",
     "output_type": "stream",
     "text": [
      "C:\\Users\\paola\\AppData\\Local\\Temp\\ipykernel_31280\\2466950100.py:51: UserWarning: Column names longer than 10 characters will be truncated when saved to ESRI Shapefile.\n",
      "  grupo.to_file(ruta_archivo, driver='ESRI Shapefile')\n",
      "C:\\Users\\paola\\AppData\\Local\\Temp\\ipykernel_31280\\2466950100.py:51: UserWarning: Column names longer than 10 characters will be truncated when saved to ESRI Shapefile.\n",
      "  grupo.to_file(ruta_archivo, driver='ESRI Shapefile')\n",
      "C:\\Users\\paola\\AppData\\Local\\Temp\\ipykernel_31280\\2466950100.py:51: UserWarning: Column names longer than 10 characters will be truncated when saved to ESRI Shapefile.\n",
      "  grupo.to_file(ruta_archivo, driver='ESRI Shapefile')\n",
      "C:\\Users\\paola\\AppData\\Local\\Temp\\ipykernel_31280\\2466950100.py:51: UserWarning: Column names longer than 10 characters will be truncated when saved to ESRI Shapefile.\n",
      "  grupo.to_file(ruta_archivo, driver='ESRI Shapefile')\n",
      "C:\\Users\\paola\\AppData\\Local\\Temp\\ipykernel_31280\\2466950100.py:51: UserWarning: Column names longer than 10 characters will be truncated when saved to ESRI Shapefile.\n",
      "  grupo.to_file(ruta_archivo, driver='ESRI Shapefile')\n",
      "C:\\Users\\paola\\AppData\\Local\\Temp\\ipykernel_31280\\2466950100.py:51: UserWarning: Column names longer than 10 characters will be truncated when saved to ESRI Shapefile.\n",
      "  grupo.to_file(ruta_archivo, driver='ESRI Shapefile')\n",
      "C:\\Users\\paola\\AppData\\Local\\Temp\\ipykernel_31280\\2466950100.py:51: UserWarning: Column names longer than 10 characters will be truncated when saved to ESRI Shapefile.\n",
      "  grupo.to_file(ruta_archivo, driver='ESRI Shapefile')\n"
     ]
    },
    {
     "name": "stdout",
     "output_type": "stream",
     "text": [
      "Guardado: C:\\Users\\paola\\OneDrive\\4 Tracks de rutas de supervisión\\Shapefiles_Resultados\\263_El_Roblito_AAR_I_09_07_2024 05_24_04 a. m..shp\n",
      "Guardado: C:\\Users\\paola\\OneDrive\\4 Tracks de rutas de supervisión\\Shapefiles_Resultados\\264_El_Roblito_AAR_R_09_07_2024 09_18_50 a. m..shp\n",
      "Guardado: C:\\Users\\paola\\OneDrive\\4 Tracks de rutas de supervisión\\Shapefiles_Resultados\\265_SAN ANDRES_WAJP_MGPR_VHAM_JGC_ 09072024.shp\n",
      "Guardado: C:\\Users\\paola\\OneDrive\\4 Tracks de rutas de supervisión\\Shapefiles_Resultados\\266_SAN ANDRES_WAJP_MGPR_VHAM_JGC_0072024.shp\n",
      "Guardado: C:\\Users\\paola\\OneDrive\\4 Tracks de rutas de supervisión\\Shapefiles_Resultados\\267_SAN _ANDRES_WJMP_MGPR_VHAM_JGC_09072024.shp\n"
     ]
    },
    {
     "name": "stderr",
     "output_type": "stream",
     "text": [
      "C:\\Users\\paola\\AppData\\Local\\Temp\\ipykernel_31280\\2466950100.py:51: UserWarning: Column names longer than 10 characters will be truncated when saved to ESRI Shapefile.\n",
      "  grupo.to_file(ruta_archivo, driver='ESRI Shapefile')\n",
      "C:\\Users\\paola\\AppData\\Local\\Temp\\ipykernel_31280\\2466950100.py:51: UserWarning: Column names longer than 10 characters will be truncated when saved to ESRI Shapefile.\n",
      "  grupo.to_file(ruta_archivo, driver='ESRI Shapefile')\n",
      "C:\\Users\\paola\\AppData\\Local\\Temp\\ipykernel_31280\\2466950100.py:51: UserWarning: Column names longer than 10 characters will be truncated when saved to ESRI Shapefile.\n",
      "  grupo.to_file(ruta_archivo, driver='ESRI Shapefile')\n",
      "C:\\Users\\paola\\AppData\\Local\\Temp\\ipykernel_31280\\2466950100.py:51: UserWarning: Column names longer than 10 characters will be truncated when saved to ESRI Shapefile.\n",
      "  grupo.to_file(ruta_archivo, driver='ESRI Shapefile')\n"
     ]
    },
    {
     "name": "stdout",
     "output_type": "stream",
     "text": [
      "Guardado: C:\\Users\\paola\\OneDrive\\4 Tracks de rutas de supervisión\\Shapefiles_Resultados\\268_SAN-ANDRES_WAJP_10072024.shp\n",
      "Guardado: C:\\Users\\paola\\OneDrive\\4 Tracks de rutas de supervisión\\Shapefiles_Resultados\\269_STA CRUZ_MGPR_WAJP_VHAM_JGC-09072024.shp\n",
      "Guardado: C:\\Users\\paola\\OneDrive\\4 Tracks de rutas de supervisión\\Shapefiles_Resultados\\270_STACRUZ_MGPR_WAJP_VHAM_JGC_10072024.shp\n",
      "Guardado: C:\\Users\\paola\\OneDrive\\4 Tracks de rutas de supervisión\\Shapefiles_Resultados\\271_STA_CRUZ-MGPR_WAJP_VHAM_JGC-09072024.shp\n",
      "Procesando: C:\\Users\\paola\\OneDrive\\4 Tracks de rutas de supervisión\\Semana del 8 al 12 de julio\\SALIDAS A CAMPO DEL 12 DE JULIO 2024.gpx\n"
     ]
    },
    {
     "name": "stderr",
     "output_type": "stream",
     "text": [
      "C:\\Users\\paola\\AppData\\Local\\Temp\\ipykernel_31280\\2466950100.py:51: UserWarning: Column names longer than 10 characters will be truncated when saved to ESRI Shapefile.\n",
      "  grupo.to_file(ruta_archivo, driver='ESRI Shapefile')\n",
      "C:\\Users\\paola\\AppData\\Local\\Temp\\ipykernel_31280\\2466950100.py:51: UserWarning: Column names longer than 10 characters will be truncated when saved to ESRI Shapefile.\n",
      "  grupo.to_file(ruta_archivo, driver='ESRI Shapefile')\n",
      "C:\\Users\\paola\\AppData\\Local\\Temp\\ipykernel_31280\\2466950100.py:51: UserWarning: Column names longer than 10 characters will be truncated when saved to ESRI Shapefile.\n",
      "  grupo.to_file(ruta_archivo, driver='ESRI Shapefile')\n"
     ]
    },
    {
     "name": "stdout",
     "output_type": "stream",
     "text": [
      "Guardado: C:\\Users\\paola\\OneDrive\\4 Tracks de rutas de supervisión\\Shapefiles_Resultados\\272_SAANDRES-WAJP_RAAR_12072024.shp\n",
      "Guardado: C:\\Users\\paola\\OneDrive\\4 Tracks de rutas de supervisión\\Shapefiles_Resultados\\273_SAN _ANDRES-WAJP_RAAR_12072024.shp\n",
      "Procesando: C:\\Users\\paola\\OneDrive\\4 Tracks de rutas de supervisión\\Semana del 8 al 12 de julio\\SANTA _CRUZ_JRM_WAJP_RAAR-12072024.gpx\n",
      "Guardado: C:\\Users\\paola\\OneDrive\\4 Tracks de rutas de supervisión\\Shapefiles_Resultados\\274_SANTA _CRUZ_JRM_WAJP_RAAR-12072024.shp\n",
      "Proceso completado. Todos los archivos GPX han sido procesados.\n"
     ]
    }
   ],
   "source": [
    "# Recorrer todas las subcarpetas y procesar los archivos GPX\n",
    "for root, dirs, files in os.walk(carpeta_raiz):\n",
    "    for file in files:\n",
    "        if file.endswith(\".gpx\"):\n",
    "            archivo_gpx = os.path.join(root, file)\n",
    "            print(f\"Procesando: {archivo_gpx}\")\n",
    "            try:\n",
    "                contador_rutas = procesar_gpx(archivo_gpx, output_folder, contador_rutas) + 1\n",
    "            except Exception as e:\n",
    "                print(f\"Error al procesar {archivo_gpx}: {e}\")\n",
    "\n",
    "print(\"Proceso completado. Todos los archivos GPX han sido procesados.\")"
   ]
  },
  {
   "cell_type": "code",
   "execution_count": 27,
   "metadata": {},
   "outputs": [],
   "source": [
    "import geopandas as gpd\n",
    "import glob\n"
   ]
  },
  {
   "cell_type": "code",
   "execution_count": 29,
   "metadata": {},
   "outputs": [],
   "source": [
    "# Cargar todos los shapefiles de una carpeta\n",
    "shapefiles = glob.glob(\"C:/Users/paola/OneDrive/4 Tracks de rutas de supervisión/Shapefiles_Resultados/*.shp\")\n",
    "\n",
    "# Leer y unir todos los shapefiles\n",
    "gdf = gpd.GeoDataFrame(pd.concat([gpd.read_file(shp) for shp in shapefiles], ignore_index=True))\n",
    "\n",
    "# Guardar el resultado en un nuevo shapefile\n",
    "gdf.to_file(\"C:/Users/paola/OneDrive/4 Tracks de rutas de supervisión/Shapefiles_Resultados/puntos_rutas_nayarit_2024.shp\")"
   ]
  }
 ],
 "metadata": {
  "kernelspec": {
   "display_name": "myenv",
   "language": "python",
   "name": "python3"
  },
  "language_info": {
   "codemirror_mode": {
    "name": "ipython",
    "version": 3
   },
   "file_extension": ".py",
   "mimetype": "text/x-python",
   "name": "python",
   "nbconvert_exporter": "python",
   "pygments_lexer": "ipython3",
   "version": "3.9.20"
  }
 },
 "nbformat": 4,
 "nbformat_minor": 2
}
